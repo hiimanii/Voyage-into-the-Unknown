{
 "cells": [
  {
   "cell_type": "code",
   "execution_count": 21,
   "id": "7f1087a2",
   "metadata": {},
   "outputs": [],
   "source": [
    "import numpy as np\n",
    "from sortedcontainers import SortedSet\n",
    "from math import sqrt"
   ]
  },
  {
   "cell_type": "code",
   "execution_count": 22,
   "id": "e05262e4",
   "metadata": {},
   "outputs": [],
   "source": [
    "class MyPriorityQueue(object):\n",
    "    def __init__(self, current_heuristic, target):\n",
    "        self.current_heuristic = current_heuristic\n",
    "        self._data = SortedSet()\n",
    "        self.target = target\n",
    "        self.g = dict()\n",
    "        self.h = dict()\n",
    "    def __len__(self):\n",
    "        return len(self._data)\n",
    "    def push(self, item):\n",
    "        node = (self.calculate_priority(item), self.get_heuristic(item), item)\n",
    "        self._data.add(node)\n",
    "    def pop(self):\n",
    "        node = self._data.pop(0)[2]\n",
    "        return node\n",
    "    def manhattan_distance(self, x, y): ### Manhattan Distance-> heuristic = |x0-y0| + |x1-y1|, x = [x0,x1] y = [y0,y1]\n",
    "        return abs(x[0] - y[0]) +abs(x[1] - y[1])\n",
    "    def euclidean_distance(self, x, y): ### Euclidean Distance-> heuristic = sqrt( (x0-y0)**2 + (x1-y1)**2 ), x = [x0,x1]\n",
    "                                        ##  y = [y0,y1]\n",
    "        return sqrt((x[0] - y[0])**2 + (x[1] - y[1])**2)\n",
    "    def chebyshev_distance(self, x, y): ### Chebyshev Distance-> heuristic = max(abs(x0-y0),abs(x1-y1)),\n",
    "                                        ### x = [x0,x1] y = [y0,y1]\n",
    "        return max(abs(x[0] - x[1]), abs(y[0] - y[1]))\n",
    "    def get_heuristic(self, x):\n",
    "        measure = self.current_heuristic\n",
    "        if measure == 'm':\n",
    "            self.h[x] = self.manhattan_distance(x, self.target)\n",
    "        elif measure == 'e':\n",
    "            self.h[x] = self.euclidean_distance(x, self.target)\n",
    "        elif measure == 'c':\n",
    "            self.h[x] = self.chebyshev_distance(x, self.target)\n",
    "        return self.h[x]\n",
    "    def calculate_priority(self, x):\n",
    "        return self.g[x] + self.get_heuristic(x)"
   ]
  },
  {
   "cell_type": "code",
   "execution_count": 23,
   "id": "69c96cea",
   "metadata": {},
   "outputs": [],
   "source": [
    "class GridWorld:\n",
    "    def __init__(self, grid, start, target, n, m):\n",
    "        '''\n",
    "        Notations in grid: If grid contains 0, it means the cell is empty\n",
    "                            and if the grid contains 1, it means the cell is blocked\n",
    "                            and if the grid contains -1, it means the cell is unconfirmed\n",
    "        '''\n",
    "        self.n = n ## Number of columns\n",
    "        self.m = m ## Number of rows\n",
    "        self.start = start  ## Starting cell of the agent\n",
    "        self.target = target ## Target cell of the agent\n",
    "        self.trajectory = [] ## Trajectory followed by the agent\n",
    "        self.grid = grid  ## Grid containing complete knowledge\n",
    "        self.dirx8 = [0, 0, 1, -1, 1, -1, 1, -1] ## Directions used for sensing\n",
    "        self.diry8 = [1, -1, 0, 0, 1, -1, -1, 1] ## Directions used for sensing\n",
    "        self.dirx4 = [0, 0, 1, -1]  ## Directions used for traversing\n",
    "        self.diry4 = [1, -1, 0, 0]  ## Directions used for traversing\n",
    "        self.sensed_x = set() ## List of cells sensed by agent\n",
    "        self.status_x = {} ## Denotes the status of the cell. 1-> confirmed block, 0-> confirmed unblocked, \n",
    "                            ## -1 -> unconfirmed\n",
    "        self.cx = {}\n",
    "    def pre_computation(self):\n",
    "        for i in np.arange(self.m):\n",
    "            for j in np.arange(self.n):\n",
    "                nx = 0\n",
    "                for k in np.arange(8):\n",
    "                    childx = i + self.dirx8[k]\n",
    "                    childy = j + self.diry8[k]\n",
    "                    if(childx>=0 and childx<self.m and childy>=0 and childy<self.n):\n",
    "                        nx+=1\n",
    "                cell = (i,j)\n",
    "                self.nx[cell] = nx\n",
    "                self.hx[cell] = nx\n",
    "            \n",
    "    def partial_sensing(self, cell, agentGridObject):\n",
    "        ''' \n",
    "            Returns number of cells that are blocked by accessing true grid\n",
    "            Calculates number of neighbours of a cell\n",
    "            Calculates cx\n",
    "        '''\n",
    "        x = cell[0]\n",
    "        y = cell[1]\n",
    "        cx = 0\n",
    "        for i in np.arange(8):\n",
    "            childx = x + self.dirx8[i]\n",
    "            childy = y + self.diry8[i]\n",
    "            if(childx >= 0 and childx < self.m and childy>=0 and childy<self.n):\n",
    "                if(self.grid[childx][childy] == '1'):\n",
    "                    cx+=1\n",
    "        agentGridObject.cx[cell] = cx ## Updating partial sensing information for the agent\n",
    "        agentGridObject.sensed_x.add(cell) ## Adding cell to the set of sensed cells\n",
    "        return cx\n",
    "    def visit_cell(self, cell, agentGridObject):\n",
    "        '''\n",
    "            If the agent goes to the next cell, it will get sense whether the next cell is blocked or not\n",
    "        '''\n",
    "        x = cell[0]\n",
    "        y = cell[1]\n",
    "        agentGridObject.status_x[cell] = int(self.grid[x][y])\n",
    "        agentGridObject.grid[x][y] = self.grid[x][y]\n",
    "        return int(self.grid[x][y])"
   ]
  },
  {
   "cell_type": "code",
   "execution_count": 24,
   "id": "05073547",
   "metadata": {},
   "outputs": [],
   "source": [
    "from collections import deque\n",
    "class Inference_Agent4:\n",
    "    def __init__(self, agentGridObject,m,n):\n",
    "        self.agentGridObject = agentGridObject # Object representing the gridworld of the Agent\n",
    "        self.dirx8 = [0, 0, 1, -1, 1, -1, 1, -1] # Direction used for sensing\n",
    "        self.diry8 = [1, -1, 0, 0, 1, -1, -1 ,1] # Direction used for sensing\n",
    "        self.kb_eqns = [] ## This is list of equation. One equation is represented as a list where first element is a set\n",
    "                          ## of tuples and the second element is the value.\n",
    "        self.q = deque()\n",
    "        self.m = m\n",
    "        self.n = n\n",
    "    def mark_cell(self, type_, cell):\n",
    "        currx = cell[0]\n",
    "        curry = cell[1]\n",
    "        cell = (currx, curry)\n",
    "        if(type_ == 1):\n",
    "            self.agentGridObject.status_x[cell] = 1\n",
    "            self.agentGridObject.grid[currx][curry] = '1'\n",
    "        else:\n",
    "            self.agentGridObject.status_x[cell] = 0\n",
    "            self.agentGridObject.grid[currx][curry] = '0'\n",
    "    def put_val_kb(self):\n",
    "        '''\n",
    "        This function checks for each eqn in kb_eqns and updates each equation according to the current knowledge of the \n",
    "        agent. The new equation is removed from knowledge base and added in the queue.\n",
    "        '''\n",
    "        \n",
    "        idx = 0\n",
    "        for eqn in self.kb_eqns:\n",
    "            var = eqn[0] ## This is a set of tuples\n",
    "            val = eqn[1] ## This is the value in RHS\n",
    "            flag = False\n",
    "            new_eqn = set()\n",
    "            for cell in var:\n",
    "                if cell in self.agentGridObject.status_x and self.agentGridObject.status_x[cell]!=-1:\n",
    "                    change= self.agentGridObject.status_x[cell]\n",
    "#                     print(\"put value change: \", change,\" cell: \",cell)\n",
    "                    val = val - change\n",
    "                    flag= True\n",
    "                else:\n",
    "                    new_eqn.add(cell)\n",
    "#             print(\"old_eqn: \",eqn,\" new_eqn: \",new_eqn)\n",
    "            if(flag):\n",
    "                self.kb_eqns.pop(idx)\n",
    "                self.q.appendleft([new_eqn,val])\n",
    "            idx+=1\n",
    "    def get_eqn_current_cell(self, cell):\n",
    "        '''\n",
    "            Generate an equation for a cell, according to the current knowledge of the agent.\n",
    "        '''\n",
    "        var = set()\n",
    "        val = self.agentGridObject.cx[cell]\n",
    "        currx = cell[0]\n",
    "        curry = cell[1]\n",
    "        for i in np.arange(8):\n",
    "            childx = currx + self.dirx8[i]\n",
    "            childy = curry + self.diry8[i]\n",
    "            child = (childx,childy)\n",
    "            if(childx>=0 and childx<self.m and childy>=0 and childy<self.n):\n",
    "                if(child not in self.agentGridObject.status_x or self.agentGridObject.status_x[child] == -1):\n",
    "                    var.add(child)\n",
    "                else:\n",
    "                    val = val - self.agentGridObject.status_x[child]\n",
    "        return var, val\n",
    "    def check_solvability(self, eqn):\n",
    "        '''\n",
    "            Check whether the current equation is solvable of not.\n",
    "            Two cases:\n",
    "            if number of variables == val --> then all the value of variables is 1.\n",
    "            if val == 0 --> then the value of all variables is 0\n",
    "        '''\n",
    "        var = eqn[0]\n",
    "        val = eqn[1]\n",
    "        flag = False\n",
    "        if(len(var) == val):\n",
    "            ### All the variables are equal to 1\n",
    "            flag = True\n",
    "            for cell in var:\n",
    "                currx = cell[0]\n",
    "                curry = cell[1]\n",
    "                self.agentGridObject.status_x[cell] = 1\n",
    "                self.agentGridObject.grid[currx][curry] = '1'\n",
    "#                 print(\"^^^^^^^^^^^^^^^^^^^^^^^currx: \",currx,\" curry: \",curry)\n",
    "        elif(val == 0):\n",
    "            ### All the variables are equal to 0\n",
    "            flag = True\n",
    "            for cell in var:\n",
    "                currx = cell[0]\n",
    "                curry = cell[1]\n",
    "                self.agentGridObject.grid[currx][curry] = '0'\n",
    "                self.agentGridObject.status_x[cell] = 0\n",
    "        return flag\n",
    "    def simplify_eqn(self, eqn):\n",
    "        '''\n",
    "            Simplifies the equation, according to the current knowledge of the grid.\n",
    "        '''\n",
    "        var = eqn[0]\n",
    "        val = eqn[1]\n",
    "        new_eqn = set()\n",
    "        for cell in var:\n",
    "            if(cell in self.agentGridObject.status_x and self.agentGridObject.status_x[cell]>=0):\n",
    "                val = val - self.agentGridObject.status_x[cell]\n",
    "            else:\n",
    "                new_eqn.add(cell)\n",
    "        return [new_eqn, val]\n",
    "    def check_subsequence(self, eqn1, eqn2):\n",
    "        '''\n",
    "            Check if eqn2 is subsequence of eqn1\n",
    "        '''\n",
    "        var1 = eqn1[0] \n",
    "        val1 = eqn1[1]\n",
    "        var2 = eqn2[0]\n",
    "        val2 = eqn2[1]\n",
    "        return var2.issubset(var1)\n",
    "    def simplify_kb_subsequence(self, q_eqn):\n",
    "        idx = 0\n",
    "        flag = True ### Denotes whether the current equation will be added to KB or not\n",
    "        for kb_eqn in self.kb_eqns:\n",
    "            if(kb_eqn==q_eqn): ############\n",
    "#                 print(\"-----same equations-----\")\n",
    "                flag = False\n",
    "                break          ############\n",
    "            res = self.check_subsequence(kb_eqn, q_eqn) ## Will be True if q_eqn is subsequence of kb_eqn\n",
    "            var_kb = kb_eqn[0]\n",
    "            val_kb = kb_eqn[1]\n",
    "            var_q = q_eqn[0]\n",
    "            val_q = q_eqn[1]\n",
    "            if(res == True):\n",
    "                #######  No. 2 ######## Will reduce the eqn of KB\n",
    "                self.kb_eqns.pop(idx)\n",
    "                new_eq_kb = var_kb.difference(var_q)\n",
    "                new_val_kb = val_kb - val_q\n",
    "                if( len(new_eq_kb) == 1 ):\n",
    "                    single_var = next(iter(new_eq_kb))\n",
    "                    self.agentGridObject.status_x[single_var] = new_val_kb\n",
    "                    self.agentGridObject.grid[single_var[0]][single_var[1]] = str(new_val_kb)\n",
    "                else:\n",
    "                    self.q.append([new_eq_kb,new_val_kb])\n",
    "            res = self.check_subsequence(q_eqn, kb_eqn) ## Will be True if kb_eqn is subsequence of q_eqn\n",
    "            if(res == True):\n",
    "                flag = False\n",
    "                ####### No. 1 ######### Will reduce the eqn of queue\n",
    "                new_q_eqn = var_q.difference(var_kb)\n",
    "                new_q_val = val_q - val_kb\n",
    "                self.q.appendleft([new_q_eqn, new_q_val])\n",
    "            idx += 1\n",
    "        self.put_val_kb()\n",
    "        return flag\n",
    "    def simplify_kb_setDiff(self, eqn):\n",
    "        var_q = eqn[0]\n",
    "        val_q = eqn[1]\n",
    "        flag = True\n",
    "        for kb_eqn in self.kb_eqns:\n",
    "            var_kb = kb_eqn[0]\n",
    "            val_kb = kb_eqn[1]\n",
    "            ##### We choose first and secnod s.t. first[1]-second[1] = rhs>=0\n",
    "            first = eqn\n",
    "            second = kb_eqn\n",
    "            if(first[1]-second[1]<0):\n",
    "                temp = first\n",
    "                first = second\n",
    "                second = temp\n",
    "            rhs = first[1] - second[1]\n",
    "            lhs = first[0].difference(second[0])\n",
    "            if(len(lhs) == rhs):\n",
    "                flag = False\n",
    "                neg_lhs = second[0].difference(first[0])\n",
    "                for cell in lhs:\n",
    "                    self.agentGridObject.status_x[cell] = 1\n",
    "                    self.agentGridObject.grid[cell[0]][cell[1]] = '1'\n",
    "                for cell in neg_lhs:\n",
    "                    self.agentGridObject.status_x[cell] = 0\n",
    "                    self.agentGridObject.grid[cell[0]][cell[1]] = '0'\n",
    "        self.put_val_kb()\n",
    "        return flag\n",
    "            \n",
    "    def infer(self, type_, cell):\n",
    "        m = self.agentGridObject.m\n",
    "        n = self.agentGridObject.n\n",
    "        '''\n",
    "        Function starts inferrencing from the node that is present in planned_path. First, we will mark the cell and update\n",
    "        the value of current cell in knowledge base equations.\n",
    "        '''\n",
    "        self.mark_cell(type_, cell) ## This function marks the current cell as blocked or unblocked\n",
    "        self.put_val_kb()\n",
    "        var, val = self.get_eqn_current_cell(cell)\n",
    "        self.q.append([var,val])\n",
    "        while(len(self.q)>0):\n",
    "            eqn = self.q.popleft()\n",
    "            eqn = self.simplify_eqn(eqn)\n",
    "            flag = self.check_solvability(eqn)\n",
    "            if(flag):\n",
    "                self.put_val_kb()\n",
    "                continue\n",
    "            add_to_KB1 = self.simplify_kb_subsequence(eqn)\n",
    "            add_to_KB2 = self.simplify_kb_setDiff(eqn)\n",
    "            if( add_to_KB1 and add_to_KB2 ):\n",
    "                self.kb_eqns.append(eqn)"
   ]
  },
  {
   "cell_type": "code",
   "execution_count": 25,
   "id": "decfbf1d",
   "metadata": {},
   "outputs": [],
   "source": [
    "class Agent4:\n",
    "    def __init__(self, n, m, start, target, inference_agent, grid,agent_grid):\n",
    "        self.n = n ## Number of columns in grid\n",
    "        self.m = m ## Number of rows in the grid\n",
    "        self.start = start ## The start cell of the grid\n",
    "        self.target = target ## The target cell of the grid\n",
    "        self.agent_grid = agent_grid  ## The current knowledge of the agent_grid\n",
    "        self.dirx4 = [-1,1,0,0] ## 4 Directions for the agent to travel\n",
    "        self.diry4 = [0,0,-1,1] ## 4 Directions for the agent to travel\n",
    "        self.inference_agent = inference_agent\n",
    "        self.grid = grid # The full knowledge of the maze\n",
    "        self.num_bumps = 0 ## Number of bumps in planned_path\n",
    "        self.sum_num_cells_processed = 0\n",
    "        self.sum_a_star = 0\n",
    "        self.lim_inference = 50\n",
    "    def a_star(self, source, current_heuristic = 'm'):\n",
    "        '''\n",
    "            A-star algorithm that plans path based on current knowledge of the agent\n",
    "        '''\n",
    "        dirx = [-1, 1, 0, 0] ## calculates the neighbours of the current node\n",
    "        diry = [0, 0, 1, -1] ## calculates the neighbours of the current node\n",
    "        visited = set() ## contains the nodes that have already been added in priority queue\n",
    "        closed_list = set() ## contains the nodes that have been popped from priority queue\n",
    "        open_list = MyPriorityQueue(current_heuristic, self.target) ## stores the visited nodes and pops it out \n",
    "                                                                    ## according to it's priority\n",
    "        planned_path = [] ## Stores the path that the agent has planned according to it's current knowledge\n",
    "        open_list.g[source]=0\n",
    "        open_list.calculate_priority( source)\n",
    "        open_list.push( source) ## This function runs in O(logn)\n",
    "        visited.add(source) #visited[source] = 1\n",
    "        parent = {} ## stores the parent of each node that is visited\n",
    "        parent[source] = None\n",
    "        while(len(open_list)>0):\n",
    "            curr = open_list.pop()\n",
    "            self.sum_num_cells_processed+=1\n",
    "            closed_list.add(curr)\n",
    "            if(curr[0] == self.target[0] and curr[1] == self.target[1]):\n",
    "                break\n",
    "            for i in np.arange(4):\n",
    "                childx = curr[0] + dirx[i]\n",
    "                childy = curr[1] + diry[i]\n",
    "                child = (childx, childy)\n",
    "                if(childx>=0 and childx<self.m and childy>=0 and childy<self.n and (child not in closed_list) and self.agent_grid.grid[childx][childy]!='1'):\n",
    "                    if(child not in visited):\n",
    "                        visited.add(child)\n",
    "                        parent[child] = curr\n",
    "                        open_list.g[child] = open_list.g[curr]+1\n",
    "                        open_list.calculate_priority(child)\n",
    "                        open_list.push(child) \n",
    "                    else:\n",
    "                        if open_list.g[curr]+1<open_list.g[child]:\n",
    "                            parent[child] = curr\n",
    "                            open_list._data.discard(child)\n",
    "                            open_list.g[child] = open_list.g[curr]+1\n",
    "                            open_list.calculate_priority(child)\n",
    "                            open_list.push(child)\n",
    "        if(self.target not in visited):\n",
    "            return []\n",
    "        curr = self.target\n",
    "        while(curr != source):\n",
    "            planned_path.append(curr)\n",
    "            curr = parent[curr]\n",
    "        planned_path.append(source)\n",
    "        return planned_path[::-1]\n",
    "    def check_planned_path(self, planned_path):\n",
    "        '''\n",
    "            The agent should call the inference agent after visiting every cell and the inference agent updates the current\n",
    "            knowledge of the agent. If the agent sees, that a node in the planned_path is blocked, then the agent will \n",
    "            start A-star again from the current node.\n",
    "            \n",
    "            There will be two types of updates in the current cell->\n",
    "            Type-0: The current node is set to unblocked, need to update the neighbours accordingly and propagate.\n",
    "            Type-1: The current node is set to blocked, need to update the neighbours accordingly and propagate.\n",
    "        '''\n",
    "        n = len(planned_path)\n",
    "        traversed_path = []\n",
    "        restart_cell = None\n",
    "        for i in np.arange(n):\n",
    "            cell = planned_path[i]\n",
    "            currx = cell[0]\n",
    "            curry = cell[1]\n",
    "            ## We will start inference only if the next cell is not sensed since if the cell is already sensed then there\n",
    "            ## will be no update in current knowledge.\n",
    "            if( cell not in self.agent_grid.sensed_x):\n",
    "                curr_status = self.grid.visit_cell(cell, self.agent_grid) ## Checking whether curr cell is blocked or not.\n",
    "                self.grid.partial_sensing(cell, self.agent_grid) ## Cell is sensed only if it is not sensed or inferred before\n",
    "                self.agent_grid.grid[currx][curry] = str(curr_status) ## updating the agent_grid for the current cell.\n",
    "                start\n",
    "                self.inference_agent.infer(curr_status,cell) ##Start inferring about x\n",
    "            else:\n",
    "                curr_status =  self.agent_grid.status_x[cell]\n",
    "            if(curr_status == 1):\n",
    "                self.num_bumps += 1\n",
    "                restart_cell = planned_path[i-1]\n",
    "                break\n",
    "            ### the current node is unblocked so if the node in the planned_path is blocked, \n",
    "            ### then we need to update the restart node and break from this loop\n",
    "            ### Will check only the 4 nodes ahead of the current node, since, the inference \n",
    "            ### agent will not update beyond 4 nodes\n",
    "            planned_path_blocked = False\n",
    "#             print(\"self.agent_grid.status_x: \",self.agent_grid.status_x)\n",
    "#             print(\"self.agent_grid: \",self.agent_grid.grid)\n",
    "            for j in np.arange(4):\n",
    "                if(i+j+1 >= n):\n",
    "                    break\n",
    "                next_cell = planned_path[i+j+1]\n",
    "                next_x = next_cell[0]\n",
    "                next_y = next_cell[1]\n",
    "                if(self.agent_grid.grid[next_x][next_y] == '1'):\n",
    "                    planned_path_blocked = True\n",
    "                    break\n",
    "            if(planned_path_blocked == True):\n",
    "                restart_cell = cell\n",
    "                traversed_path.append(cell)\n",
    "                break\n",
    "            traversed_path.append(cell)\n",
    "        return traversed_path, restart_cell\n",
    "            \n",
    "    def compute_path(self):\n",
    "        '''\n",
    "        \n",
    "        '''\n",
    "        path = []\n",
    "        curr = self.start\n",
    "        while(curr != self.target):\n",
    "            self.sum_a_star+=1\n",
    "            planned_path = self.a_star(curr)\n",
    "            if( len(planned_path) == 0 ):\n",
    "                return []\n",
    "            traversed_path, restart_node = self.check_planned_path(planned_path)\n",
    "            n = len(traversed_path)\n",
    "            path.append(traversed_path)\n",
    "            if(traversed_path[n-1] == self.target):\n",
    "                break\n",
    "            curr = restart_node\n",
    "        return path"
   ]
  },
  {
   "cell_type": "code",
   "execution_count": 26,
   "id": "1e131fda",
   "metadata": {},
   "outputs": [
    {
     "name": "stdout",
     "output_type": "stream",
     "text": [
      "100\n",
      "39\n"
     ]
    }
   ],
   "source": [
    "grid = '....XXXX..XX......X....XX.XXX..X....X.....XXXX..X.X..XX...X...XX..XX.....X.X...XXX.X.X.X.X.X...X.X..'\n",
    "s = ''\n",
    "cnt =0\n",
    "for x in grid:\n",
    "    if(x == '.'):\n",
    "        s = s + '0'\n",
    "    else:\n",
    "        cnt+=1\n",
    "        s = s + '1'\n",
    "print(len(s))\n",
    "print(cnt)"
   ]
  },
  {
   "cell_type": "code",
   "execution_count": 27,
   "id": "b1677a78",
   "metadata": {},
   "outputs": [
    {
     "data": {
      "text/plain": [
       "0.29389275561219486"
      ]
     },
     "execution_count": 27,
     "metadata": {},
     "output_type": "execute_result"
    }
   ],
   "source": [
    "2998/10201"
   ]
  },
  {
   "cell_type": "code",
   "execution_count": 28,
   "id": "4164d138",
   "metadata": {},
   "outputs": [
    {
     "name": "stdout",
     "output_type": "stream",
     "text": [
      "[['0' '0' '0' '0' '1' '1' '1' '1' '0' '0']\n",
      " ['1' '1' '0' '0' '0' '0' '0' '0' '1' '0']\n",
      " ['0' '0' '0' '1' '1' '0' '1' '1' '1' '0']\n",
      " ['0' '1' '0' '0' '0' '0' '1' '0' '0' '0']\n",
      " ['0' '0' '1' '1' '1' '1' '0' '0' '1' '0']\n",
      " ['1' '0' '0' '1' '1' '0' '0' '0' '1' '0']\n",
      " ['0' '0' '1' '1' '0' '0' '1' '1' '0' '0']\n",
      " ['0' '0' '0' '1' '0' '1' '0' '0' '0' '1']\n",
      " ['1' '1' '0' '1' '0' '1' '0' '1' '0' '1']\n",
      " ['0' '1' '0' '0' '0' '1' '0' '1' '0' '0']]\n"
     ]
    }
   ],
   "source": [
    "n = 10\n",
    "grid = [] ## matrix that contains full knowledge of gridworld\n",
    "i = 0\n",
    "while(i<n*n):\n",
    "    grid.append(list(s[i:i+n]))\n",
    "    i = i + n\n",
    "grid = np.array(grid)\n",
    "print(grid)"
   ]
  },
  {
   "cell_type": "code",
   "execution_count": 29,
   "id": "49a6608d",
   "metadata": {},
   "outputs": [],
   "source": [
    "grid = np.array([\n",
    "    ['0','0','0','0','0'],\n",
    "    ['0','0','0','0','0'],\n",
    "    ['0','0','0','1','0'],\n",
    "    ['0','0','0','0','0'],\n",
    "    ['0','0','0','0','0']\n",
    "])"
   ]
  },
  {
   "cell_type": "code",
   "execution_count": 30,
   "id": "ac01afe0",
   "metadata": {
    "scrolled": true
   },
   "outputs": [
    {
     "name": "stdout",
     "output_type": "stream",
     "text": [
      "0\n"
     ]
    }
   ],
   "source": [
    "n = 5\n",
    "m = 5\n",
    "start = (0,0)\n",
    "target = (m-1,n-1)\n",
    "gridObject = GridWorld(grid, start, target, n, m) ### Original grid knowledge object\n",
    "agentGridObject = GridWorld(np.full((m,n),'0'), start, target, n, m) ### Agent Grid Object\n",
    "inference_agent = Inference_Agent4(agentGridObject,m,n) ### AgentGrid\n",
    "grid_agent = Agent4(n,m,start,target,inference_agent,gridObject, agentGridObject)\n",
    "grid_agent.compute_path()\n",
    "print(grid_agent.num_bumps)"
   ]
  },
  {
   "cell_type": "code",
   "execution_count": 13,
   "id": "6e257f2a",
   "metadata": {},
   "outputs": [
    {
     "name": "stdout",
     "output_type": "stream",
     "text": [
      "[0.   0.01 0.02 0.03 0.04 0.05 0.06 0.07 0.08 0.09 0.1  0.11 0.12 0.13\n",
      " 0.14 0.15 0.16 0.17 0.18 0.19 0.2  0.21 0.22 0.23 0.24 0.25 0.26 0.27\n",
      " 0.28 0.29 0.3 ]\n"
     ]
    }
   ],
   "source": [
    "import numpy as np\n",
    "p_values = np.linspace(0,0.3,31)\n",
    "print(p_values)\n",
    "result_x = p_values[1:50]"
   ]
  },
  {
   "cell_type": "code",
   "execution_count": 14,
   "id": "30fd8e02",
   "metadata": {
    "scrolled": true
   },
   "outputs": [
    {
     "name": "stderr",
     "output_type": "stream",
     "text": [
      "\r",
      "  0%|                                                                                           | 0/31 [00:00<?, ?it/s]"
     ]
    },
    {
     "name": "stdout",
     "output_type": "stream",
     "text": [
      "Started for p:  0.01\n"
     ]
    },
    {
     "name": "stderr",
     "output_type": "stream",
     "text": [
      "\r",
      "  6%|█████▎                                                                             | 2/31 [00:05<01:12,  2.51s/it]"
     ]
    },
    {
     "name": "stdout",
     "output_type": "stream",
     "text": [
      "483\n",
      "1.932\n",
      "Started for p:  0.02\n"
     ]
    },
    {
     "name": "stderr",
     "output_type": "stream",
     "text": [
      "\r",
      " 10%|████████                                                                           | 3/31 [00:11<01:57,  4.19s/it]"
     ]
    },
    {
     "name": "stdout",
     "output_type": "stream",
     "text": [
      "1017\n",
      "4.068\n",
      "Started for p:  0.03\n"
     ]
    },
    {
     "name": "stderr",
     "output_type": "stream",
     "text": [
      "\r",
      " 13%|██████████▋                                                                        | 4/31 [00:19<02:29,  5.55s/it]"
     ]
    },
    {
     "name": "stdout",
     "output_type": "stream",
     "text": [
      "1451\n",
      "5.804\n",
      "Started for p:  0.04\n"
     ]
    },
    {
     "name": "stderr",
     "output_type": "stream",
     "text": [
      "\r",
      " 16%|█████████████▍                                                                     | 5/31 [00:29<03:00,  6.96s/it]"
     ]
    },
    {
     "name": "stdout",
     "output_type": "stream",
     "text": [
      "1962\n",
      "7.848\n",
      "Started for p:  0.05\n"
     ]
    },
    {
     "name": "stderr",
     "output_type": "stream",
     "text": [
      "\r",
      " 19%|████████████████                                                                   | 6/31 [00:42<03:47,  9.09s/it]"
     ]
    },
    {
     "name": "stdout",
     "output_type": "stream",
     "text": [
      "2490\n",
      "9.96\n",
      "Started for p:  0.06\n"
     ]
    },
    {
     "name": "stderr",
     "output_type": "stream",
     "text": [
      "\r",
      " 23%|██████████████████▋                                                                | 7/31 [00:58<04:31, 11.32s/it]"
     ]
    },
    {
     "name": "stdout",
     "output_type": "stream",
     "text": [
      "2997\n",
      "11.988\n",
      "Started for p:  0.07\n"
     ]
    },
    {
     "name": "stderr",
     "output_type": "stream",
     "text": [
      "\r",
      " 26%|█████████████████████▍                                                             | 8/31 [01:16<05:09, 13.47s/it]"
     ]
    },
    {
     "name": "stdout",
     "output_type": "stream",
     "text": [
      "3497\n",
      "13.988\n",
      "Started for p:  0.08\n"
     ]
    },
    {
     "name": "stderr",
     "output_type": "stream",
     "text": [
      "\r",
      " 29%|████████████████████████                                                           | 9/31 [01:36<05:42, 15.58s/it]"
     ]
    },
    {
     "name": "stdout",
     "output_type": "stream",
     "text": [
      "3931\n",
      "15.724\n",
      "Started for p:  0.09\n"
     ]
    },
    {
     "name": "stderr",
     "output_type": "stream",
     "text": [
      "\r",
      " 32%|██████████████████████████▍                                                       | 10/31 [01:59<06:13, 17.80s/it]"
     ]
    },
    {
     "name": "stdout",
     "output_type": "stream",
     "text": [
      "4484\n",
      "17.936\n",
      "Started for p:  0.1\n"
     ]
    },
    {
     "name": "stderr",
     "output_type": "stream",
     "text": [
      "\r",
      " 35%|█████████████████████████████                                                     | 11/31 [02:24<06:37, 19.88s/it]"
     ]
    },
    {
     "name": "stdout",
     "output_type": "stream",
     "text": [
      "4966\n",
      "19.864\n",
      "Started for p:  0.11\n"
     ]
    },
    {
     "name": "stderr",
     "output_type": "stream",
     "text": [
      "\r",
      " 39%|███████████████████████████████▋                                                  | 12/31 [02:51<07:00, 22.13s/it]"
     ]
    },
    {
     "name": "stdout",
     "output_type": "stream",
     "text": [
      "5578\n",
      "22.312\n",
      "Started for p:  0.12\n"
     ]
    },
    {
     "name": "stderr",
     "output_type": "stream",
     "text": [
      "\r",
      " 42%|██████████████████████████████████▍                                               | 13/31 [03:21<07:19, 24.39s/it]"
     ]
    },
    {
     "name": "stdout",
     "output_type": "stream",
     "text": [
      "6214\n",
      "24.856\n",
      "Started for p:  0.13\n"
     ]
    },
    {
     "name": "stderr",
     "output_type": "stream",
     "text": [
      "\r",
      " 45%|█████████████████████████████████████                                             | 14/31 [03:52<07:31, 26.57s/it]"
     ]
    },
    {
     "name": "stdout",
     "output_type": "stream",
     "text": [
      "6760\n",
      "27.04\n",
      "Started for p:  0.14\n"
     ]
    },
    {
     "name": "stderr",
     "output_type": "stream",
     "text": [
      "\r",
      " 48%|███████████████████████████████████████▋                                          | 15/31 [04:27<07:43, 28.95s/it]"
     ]
    },
    {
     "name": "stdout",
     "output_type": "stream",
     "text": [
      "7323\n",
      "29.292\n",
      "Started for p:  0.15\n"
     ]
    },
    {
     "name": "stderr",
     "output_type": "stream",
     "text": [
      "\r",
      " 52%|██████████████████████████████████████████▎                                       | 16/31 [05:04<07:53, 31.55s/it]"
     ]
    },
    {
     "name": "stdout",
     "output_type": "stream",
     "text": [
      "7921\n",
      "31.684\n",
      "Started for p:  0.16\n"
     ]
    },
    {
     "name": "stderr",
     "output_type": "stream",
     "text": [
      "\r",
      " 55%|████████████████████████████████████████████▉                                     | 17/31 [05:46<08:02, 34.48s/it]"
     ]
    },
    {
     "name": "stdout",
     "output_type": "stream",
     "text": [
      "8699\n",
      "34.796\n",
      "Started for p:  0.17\n"
     ]
    },
    {
     "name": "stderr",
     "output_type": "stream",
     "text": [
      "\r",
      " 58%|███████████████████████████████████████████████▌                                  | 18/31 [06:30<08:05, 37.34s/it]"
     ]
    },
    {
     "name": "stdout",
     "output_type": "stream",
     "text": [
      "9030\n",
      "36.12\n",
      "Started for p:  0.18\n"
     ]
    },
    {
     "name": "stderr",
     "output_type": "stream",
     "text": [
      "\r",
      " 61%|██████████████████████████████████████████████████▎                               | 19/31 [07:18<08:07, 40.64s/it]"
     ]
    },
    {
     "name": "stdout",
     "output_type": "stream",
     "text": [
      "9952\n",
      "39.808\n",
      "Started for p:  0.19\n"
     ]
    },
    {
     "name": "stderr",
     "output_type": "stream",
     "text": [
      "\r",
      " 65%|████████████████████████████████████████████████████▉                             | 20/31 [08:08<07:57, 43.45s/it]"
     ]
    },
    {
     "name": "stdout",
     "output_type": "stream",
     "text": [
      "10245\n",
      "40.98\n",
      "Started for p:  0.2\n"
     ]
    },
    {
     "name": "stderr",
     "output_type": "stream",
     "text": [
      "\r",
      " 68%|███████████████████████████████████████████████████████▌                          | 21/31 [09:02<07:45, 46.55s/it]"
     ]
    },
    {
     "name": "stdout",
     "output_type": "stream",
     "text": [
      "11311\n",
      "45.244\n",
      "Started for p:  0.21\n"
     ]
    },
    {
     "name": "stderr",
     "output_type": "stream",
     "text": [
      "\r",
      " 71%|██████████████████████████████████████████████████████████▏                       | 22/31 [10:00<07:29, 49.95s/it]"
     ]
    },
    {
     "name": "stdout",
     "output_type": "stream",
     "text": [
      "12179\n",
      "48.716\n",
      "Started for p:  0.22\n"
     ]
    },
    {
     "name": "stderr",
     "output_type": "stream",
     "text": [
      "\r",
      " 74%|████████████████████████████████████████████████████████████▊                     | 23/31 [10:58<07:00, 52.57s/it]"
     ]
    },
    {
     "name": "stdout",
     "output_type": "stream",
     "text": [
      "12417\n",
      "49.668\n",
      "Started for p:  0.23\n"
     ]
    },
    {
     "name": "stderr",
     "output_type": "stream",
     "text": [
      "\r",
      " 77%|███████████████████████████████████████████████████████████████▍                  | 24/31 [12:05<06:37, 56.73s/it]"
     ]
    },
    {
     "name": "stdout",
     "output_type": "stream",
     "text": [
      "13682\n",
      "54.728\n",
      "Started for p:  0.24\n"
     ]
    },
    {
     "name": "stderr",
     "output_type": "stream",
     "text": [
      "\r",
      " 81%|██████████████████████████████████████████████████████████████████▏               | 25/31 [13:16<06:06, 61.15s/it]"
     ]
    },
    {
     "name": "stdout",
     "output_type": "stream",
     "text": [
      "14768\n",
      "59.072\n",
      "Started for p:  0.25\n"
     ]
    },
    {
     "name": "stderr",
     "output_type": "stream",
     "text": [
      "\r",
      " 84%|████████████████████████████████████████████████████████████████████▊             | 26/31 [14:30<05:24, 64.98s/it]"
     ]
    },
    {
     "name": "stdout",
     "output_type": "stream",
     "text": [
      "15364\n",
      "61.456\n",
      "Started for p:  0.26\n"
     ]
    },
    {
     "name": "stderr",
     "output_type": "stream",
     "text": [
      "\r",
      " 87%|███████████████████████████████████████████████████████████████████████▍          | 27/31 [15:50<04:37, 69.42s/it]"
     ]
    },
    {
     "name": "stdout",
     "output_type": "stream",
     "text": [
      "16492\n",
      "65.968\n",
      "Started for p:  0.27\n"
     ]
    },
    {
     "name": "stderr",
     "output_type": "stream",
     "text": [
      "\r",
      " 90%|██████████████████████████████████████████████████████████████████████████        | 28/31 [17:15<03:42, 74.01s/it]"
     ]
    },
    {
     "name": "stdout",
     "output_type": "stream",
     "text": [
      "17306\n",
      "69.224\n",
      "Started for p:  0.28\n"
     ]
    },
    {
     "name": "stderr",
     "output_type": "stream",
     "text": [
      "\r",
      " 94%|████████████████████████████████████████████████████████████████████████████▋     | 29/31 [18:47<02:39, 79.51s/it]"
     ]
    },
    {
     "name": "stdout",
     "output_type": "stream",
     "text": [
      "18950\n",
      "75.8\n",
      "Started for p:  0.29\n"
     ]
    },
    {
     "name": "stderr",
     "output_type": "stream",
     "text": [
      "\r",
      " 97%|███████████████████████████████████████████████████████████████████████████████▎  | 30/31 [20:25<01:24, 84.99s/it]"
     ]
    },
    {
     "name": "stdout",
     "output_type": "stream",
     "text": [
      "19866\n",
      "79.464\n",
      "Started for p:  0.3\n"
     ]
    },
    {
     "name": "stderr",
     "output_type": "stream",
     "text": [
      "100%|██████████████████████████████████████████████████████████████████████████████████| 31/31 [22:13<00:00, 43.02s/it]"
     ]
    },
    {
     "name": "stdout",
     "output_type": "stream",
     "text": [
      "21975\n",
      "87.9\n"
     ]
    },
    {
     "name": "stderr",
     "output_type": "stream",
     "text": [
      "\n"
     ]
    }
   ],
   "source": [
    "### Plots --> avg len of trajectory, avg number of cells processed, avg num of bumps\n",
    "\n",
    "def calculate_path_length(ans_compute_path):\n",
    "    ans = 0\n",
    "    for x in ans_compute_path:\n",
    "        ans = ans + len(x)-1\n",
    "    return ans + 1\n",
    "from tqdm import tqdm\n",
    "cnt = 0\n",
    "result_y = []\n",
    "# p_values = np.round(p_values,2)\n",
    "# result_x = p_values[1:50]\n",
    "avg_num_cells_processed = []\n",
    "avg_bumps = []\n",
    "avg_astar = []\n",
    "m = 101\n",
    "n = 101\n",
    "start = (0,0)\n",
    "target = (m-1,n-1)\n",
    "for p in tqdm(p_values):\n",
    "    if p == 0 or  p== 1:\n",
    "        continue\n",
    "    print(\"Started for p: \",p)\n",
    "    sum_num_cells_processed = 0\n",
    "    sum_bumps = 0\n",
    "    sum_astar = 0\n",
    "    cnt = 0\n",
    "    with open('C:/Users/karan/Desktop/Rutgers Courses/CS520/Project2/Grid_data/'+'p'+str(p)+'.txt') as f:\n",
    "        grid_data = f.readlines()\n",
    "        freq = 0\n",
    "        for s in grid_data:\n",
    "            new_s = ''\n",
    "            for c in s:\n",
    "                if(c == '.'):\n",
    "                    new_s +='0'\n",
    "                else:\n",
    "                    new_s += '1'\n",
    "            i = 0\n",
    "            grid = [] ## matrix that contains full knowledge of gridworld\n",
    "            m = 101\n",
    "            n = 101\n",
    "            start = (0,0)\n",
    "            target = (m-1,n-1)\n",
    "            while(i<m*n):\n",
    "                grid.append(list(new_s[i:i+n]))\n",
    "                i = i + n\n",
    "            grid = np.array(grid)\n",
    "            gridObject = GridWorld(grid, start, target, n, m) ### Original grid knowledge object\n",
    "            agentGridObject = GridWorld(np.full((m,n),'0'), start, target, n, m) ### Agent Grid Object\n",
    "            inference_agent = Inference_Agent4(agentGridObject,m,n) ### Inference Agent Grid\n",
    "            grid_agent = Agent4(n,m,start,target,inference_agent,gridObject, agentGridObject)\n",
    "            ans = grid_agent.compute_path()\n",
    "            sum_num_cells_processed += grid_agent.sum_num_cells_processed\n",
    "            sum_bumps += grid_agent.num_bumps\n",
    "            sum_astar += grid_agent.sum_a_star\n",
    "            cnt+=1\n",
    "            if(cnt == 250):\n",
    "                break\n",
    "        avg_num_cells_processed.append(sum_num_cells_processed/250)\n",
    "        avg_bumps.append(sum_bumps/250)\n",
    "        avg_astar.append(sum_astar/250)\n",
    "        print(sum_bumps)\n",
    "        print(sum_bumps/250)\n",
    "        "
   ]
  },
  {
   "cell_type": "code",
   "execution_count": 167,
   "id": "c7db46e4",
   "metadata": {
    "scrolled": true
   },
   "outputs": [
    {
     "name": "stderr",
     "output_type": "stream",
     "text": [
      "\r",
      "  0%|                                                                                           | 0/31 [00:00<?, ?it/s]"
     ]
    },
    {
     "name": "stdout",
     "output_type": "stream",
     "text": [
      "Started for p:  0.01\n"
     ]
    },
    {
     "name": "stderr",
     "output_type": "stream",
     "text": [
      "\r",
      "  6%|█████▎                                                                             | 2/31 [00:22<05:28, 11.31s/it]"
     ]
    },
    {
     "name": "stdout",
     "output_type": "stream",
     "text": [
      "483\n",
      "1.932\n",
      "Started for p:  0.02\n"
     ]
    },
    {
     "name": "stderr",
     "output_type": "stream",
     "text": [
      "\r",
      " 10%|████████                                                                           | 3/31 [00:49<08:17, 17.76s/it]"
     ]
    },
    {
     "name": "stdout",
     "output_type": "stream",
     "text": [
      "1017\n",
      "4.068\n",
      "Started for p:  0.03\n"
     ]
    },
    {
     "name": "stderr",
     "output_type": "stream",
     "text": [
      "\r",
      " 13%|██████████▋                                                                        | 4/31 [01:23<10:42, 23.80s/it]"
     ]
    },
    {
     "name": "stdout",
     "output_type": "stream",
     "text": [
      "1451\n",
      "5.804\n",
      "Started for p:  0.04\n"
     ]
    },
    {
     "name": "stderr",
     "output_type": "stream",
     "text": [
      "\r",
      " 16%|█████████████▍                                                                     | 5/31 [02:01<12:26, 28.72s/it]"
     ]
    },
    {
     "name": "stdout",
     "output_type": "stream",
     "text": [
      "1962\n",
      "7.848\n",
      "Started for p:  0.05\n"
     ]
    },
    {
     "name": "stderr",
     "output_type": "stream",
     "text": [
      "\r",
      " 19%|████████████████                                                                   | 6/31 [02:45<14:09, 33.97s/it]"
     ]
    },
    {
     "name": "stdout",
     "output_type": "stream",
     "text": [
      "2490\n",
      "9.96\n",
      "Started for p:  0.06\n"
     ]
    },
    {
     "name": "stderr",
     "output_type": "stream",
     "text": [
      "\r",
      " 23%|██████████████████▋                                                                | 7/31 [03:35<15:36, 39.01s/it]"
     ]
    },
    {
     "name": "stdout",
     "output_type": "stream",
     "text": [
      "2997\n",
      "11.988\n",
      "Started for p:  0.07\n"
     ]
    },
    {
     "name": "stderr",
     "output_type": "stream",
     "text": [
      "\r",
      " 26%|█████████████████████▍                                                             | 8/31 [04:30<16:55, 44.16s/it]"
     ]
    },
    {
     "name": "stdout",
     "output_type": "stream",
     "text": [
      "3497\n",
      "13.988\n",
      "Started for p:  0.08\n"
     ]
    },
    {
     "name": "stderr",
     "output_type": "stream",
     "text": [
      "\r",
      " 29%|████████████████████████                                                           | 9/31 [05:31<18:04, 49.30s/it]"
     ]
    },
    {
     "name": "stdout",
     "output_type": "stream",
     "text": [
      "3931\n",
      "15.724\n",
      "Started for p:  0.09\n"
     ]
    },
    {
     "name": "stderr",
     "output_type": "stream",
     "text": [
      "\r",
      " 32%|██████████████████████████▍                                                       | 10/31 [06:40<19:23, 55.39s/it]"
     ]
    },
    {
     "name": "stdout",
     "output_type": "stream",
     "text": [
      "4484\n",
      "17.936\n",
      "Started for p:  0.1\n"
     ]
    },
    {
     "name": "stderr",
     "output_type": "stream",
     "text": [
      "\r",
      " 35%|█████████████████████████████                                                     | 11/31 [07:57<20:39, 62.00s/it]"
     ]
    },
    {
     "name": "stdout",
     "output_type": "stream",
     "text": [
      "4966\n",
      "19.864\n",
      "Started for p:  0.11\n"
     ]
    },
    {
     "name": "stderr",
     "output_type": "stream",
     "text": [
      "\r",
      " 39%|███████████████████████████████▋                                                  | 12/31 [09:19<21:33, 68.09s/it]"
     ]
    },
    {
     "name": "stdout",
     "output_type": "stream",
     "text": [
      "5578\n",
      "22.312\n",
      "Started for p:  0.12\n"
     ]
    },
    {
     "name": "stderr",
     "output_type": "stream",
     "text": [
      "\r",
      " 42%|██████████████████████████████████▍                                               | 13/31 [10:51<22:32, 75.13s/it]"
     ]
    },
    {
     "name": "stdout",
     "output_type": "stream",
     "text": [
      "6214\n",
      "24.856\n",
      "Started for p:  0.13\n"
     ]
    },
    {
     "name": "stderr",
     "output_type": "stream",
     "text": [
      "\r",
      " 45%|█████████████████████████████████████                                             | 14/31 [12:31<23:25, 82.66s/it]"
     ]
    },
    {
     "name": "stdout",
     "output_type": "stream",
     "text": [
      "6760\n",
      "27.04\n",
      "Started for p:  0.14\n"
     ]
    },
    {
     "name": "stderr",
     "output_type": "stream",
     "text": [
      "\r",
      " 48%|███████████████████████████████████████▋                                          | 15/31 [14:16<23:52, 89.55s/it]"
     ]
    },
    {
     "name": "stdout",
     "output_type": "stream",
     "text": [
      "7323\n",
      "29.292\n",
      "Started for p:  0.15\n"
     ]
    },
    {
     "name": "stderr",
     "output_type": "stream",
     "text": [
      "\r",
      " 52%|██████████████████████████████████████████▎                                       | 16/31 [16:09<24:07, 96.51s/it]"
     ]
    },
    {
     "name": "stdout",
     "output_type": "stream",
     "text": [
      "7921\n",
      "31.684\n",
      "Started for p:  0.16\n"
     ]
    },
    {
     "name": "stderr",
     "output_type": "stream",
     "text": [
      "\r",
      " 55%|████████████████████████████████████████████▉                                     | 17/31 [17:54<23:05, 98.93s/it]"
     ]
    },
    {
     "name": "stdout",
     "output_type": "stream",
     "text": [
      "8699\n",
      "34.796\n",
      "Started for p:  0.17\n"
     ]
    },
    {
     "name": "stderr",
     "output_type": "stream",
     "text": [
      "\r",
      " 58%|███████████████████████████████████████████████                                  | 18/31 [19:57<23:01, 106.28s/it]"
     ]
    },
    {
     "name": "stdout",
     "output_type": "stream",
     "text": [
      "9030\n",
      "36.12\n",
      "Started for p:  0.18\n"
     ]
    },
    {
     "name": "stderr",
     "output_type": "stream",
     "text": [
      "\r",
      " 61%|█████████████████████████████████████████████████▋                               | 19/31 [21:29<20:24, 102.01s/it]"
     ]
    },
    {
     "name": "stdout",
     "output_type": "stream",
     "text": [
      "9952\n",
      "39.808\n",
      "Started for p:  0.19\n"
     ]
    },
    {
     "name": "stderr",
     "output_type": "stream",
     "text": [
      "\r",
      " 65%|████████████████████████████████████████████████████▉                             | 20/31 [21:53<14:23, 78.47s/it]"
     ]
    },
    {
     "name": "stdout",
     "output_type": "stream",
     "text": [
      "10245\n",
      "40.98\n",
      "Started for p:  0.2\n"
     ]
    },
    {
     "name": "stderr",
     "output_type": "stream",
     "text": [
      "\r",
      " 68%|███████████████████████████████████████████████████████▌                          | 21/31 [22:18<10:25, 62.58s/it]"
     ]
    },
    {
     "name": "stdout",
     "output_type": "stream",
     "text": [
      "11311\n",
      "45.244\n",
      "Started for p:  0.21\n"
     ]
    },
    {
     "name": "stderr",
     "output_type": "stream",
     "text": [
      "\r",
      " 71%|██████████████████████████████████████████████████████████▏                       | 22/31 [22:46<07:50, 52.24s/it]"
     ]
    },
    {
     "name": "stdout",
     "output_type": "stream",
     "text": [
      "12179\n",
      "48.716\n",
      "Started for p:  0.22\n"
     ]
    },
    {
     "name": "stderr",
     "output_type": "stream",
     "text": [
      "\r",
      " 74%|████████████████████████████████████████████████████████████▊                     | 23/31 [23:16<06:03, 45.44s/it]"
     ]
    },
    {
     "name": "stdout",
     "output_type": "stream",
     "text": [
      "12417\n",
      "49.668\n",
      "Started for p:  0.23\n"
     ]
    },
    {
     "name": "stderr",
     "output_type": "stream",
     "text": [
      "\r",
      " 77%|███████████████████████████████████████████████████████████████▍                  | 24/31 [23:48<04:50, 41.54s/it]"
     ]
    },
    {
     "name": "stdout",
     "output_type": "stream",
     "text": [
      "13682\n",
      "54.728\n",
      "Started for p:  0.24\n"
     ]
    },
    {
     "name": "stderr",
     "output_type": "stream",
     "text": [
      "\r",
      " 81%|██████████████████████████████████████████████████████████████████▏               | 25/31 [24:24<03:59, 39.86s/it]"
     ]
    },
    {
     "name": "stdout",
     "output_type": "stream",
     "text": [
      "14768\n",
      "59.072\n",
      "Started for p:  0.25\n"
     ]
    },
    {
     "name": "stderr",
     "output_type": "stream",
     "text": [
      "\r",
      " 84%|████████████████████████████████████████████████████████████████████▊             | 26/31 [25:02<03:15, 39.10s/it]"
     ]
    },
    {
     "name": "stdout",
     "output_type": "stream",
     "text": [
      "15364\n",
      "61.456\n",
      "Started for p:  0.26\n"
     ]
    },
    {
     "name": "stderr",
     "output_type": "stream",
     "text": [
      "\r",
      " 87%|███████████████████████████████████████████████████████████████████████▍          | 27/31 [25:43<02:38, 39.68s/it]"
     ]
    },
    {
     "name": "stdout",
     "output_type": "stream",
     "text": [
      "16492\n",
      "65.968\n",
      "Started for p:  0.27\n"
     ]
    },
    {
     "name": "stderr",
     "output_type": "stream",
     "text": [
      "\r",
      " 90%|██████████████████████████████████████████████████████████████████████████        | 28/31 [26:26<02:02, 40.83s/it]"
     ]
    },
    {
     "name": "stdout",
     "output_type": "stream",
     "text": [
      "17306\n",
      "69.224\n",
      "Started for p:  0.28\n"
     ]
    },
    {
     "name": "stderr",
     "output_type": "stream",
     "text": [
      "\r",
      " 94%|████████████████████████████████████████████████████████████████████████████▋     | 29/31 [27:14<01:25, 42.94s/it]"
     ]
    },
    {
     "name": "stdout",
     "output_type": "stream",
     "text": [
      "18950\n",
      "75.8\n",
      "Started for p:  0.29\n"
     ]
    },
    {
     "name": "stderr",
     "output_type": "stream",
     "text": [
      "\r",
      " 97%|███████████████████████████████████████████████████████████████████████████████▎  | 30/31 [28:05<00:45, 45.49s/it]"
     ]
    },
    {
     "name": "stdout",
     "output_type": "stream",
     "text": [
      "19866\n",
      "79.464\n",
      "Started for p:  0.3\n"
     ]
    },
    {
     "name": "stderr",
     "output_type": "stream",
     "text": [
      "100%|██████████████████████████████████████████████████████████████████████████████████| 31/31 [29:03<00:00, 56.24s/it]"
     ]
    },
    {
     "name": "stdout",
     "output_type": "stream",
     "text": [
      "21975\n",
      "87.9\n"
     ]
    },
    {
     "name": "stderr",
     "output_type": "stream",
     "text": [
      "\n"
     ]
    }
   ],
   "source": [
    "### Plots --> avg len of trajectory, avg number of cells processed, avg num of bumps\n",
    "\n",
    "def calculate_path_length(ans_compute_path):\n",
    "    ans = 0\n",
    "    for x in ans_compute_path:\n",
    "        ans = ans + len(x)-1\n",
    "    return ans + 1\n",
    "from tqdm import tqdm\n",
    "cnt = 0\n",
    "result_y = []\n",
    "# p_values = np.round(p_values,2)\n",
    "# result_x = p_values[1:50]\n",
    "avg_num_cells_processed = []\n",
    "avg_bumps = []\n",
    "avg_astar = []\n",
    "m = 101\n",
    "n = 101\n",
    "start = (0,0)\n",
    "target = (m-1,n-1)\n",
    "for p in tqdm(p_values):\n",
    "    if p == 0 or  p== 1:\n",
    "        continue\n",
    "    print(\"Started for p: \",p)\n",
    "    sum_num_cells_processed = 0\n",
    "    sum_bumps = 0\n",
    "    sum_astar = 0\n",
    "    cnt = 0\n",
    "    with open('C:/Users/karan/Desktop/Rutgers Courses/CS520/Project2/Grid_data/'+'p'+str(p)+'.txt') as f:\n",
    "        grid_data = f.readlines()\n",
    "        freq = 0\n",
    "        for s in grid_data:\n",
    "            new_s = ''\n",
    "            for c in s:\n",
    "                if(c == '.'):\n",
    "                    new_s +='0'\n",
    "                else:\n",
    "                    new_s += '1'\n",
    "            i = 0\n",
    "            grid = [] ## matrix that contains full knowledge of gridworld\n",
    "            m = 101\n",
    "            n = 101\n",
    "            start = (0,0)\n",
    "            target = (m-1,n-1)\n",
    "            while(i<m*n):\n",
    "                grid.append(list(new_s[i:i+n]))\n",
    "                i = i + n\n",
    "            grid = np.array(grid)\n",
    "            gridObject = GridWorld(grid, start, target, n, m) ### Original grid knowledge object\n",
    "            agentGridObject = GridWorld(np.full((m,n),'0'), start, target, n, m) ### Agent Grid Object\n",
    "            inference_agent = Inference_Agent4(agentGridObject,m,n) ### Inference Agent Grid\n",
    "            grid_agent = Agent4(n,m,start,target,inference_agent,gridObject, agentGridObject)\n",
    "            ans = grid_agent.compute_path()\n",
    "            sum_num_cells_processed += grid_agent.sum_num_cells_processed\n",
    "            sum_bumps += grid_agent.num_bumps\n",
    "            sum_astar += grid_agent.sum_a_star\n",
    "            cnt+=1\n",
    "            if(cnt == 250):\n",
    "                break\n",
    "        avg_num_cells_processed.append(sum_num_cells_processed/250)\n",
    "        avg_bumps.append(sum_bumps/250)\n",
    "        avg_astar.append(sum_astar/250)\n",
    "        print(sum_bumps)\n",
    "        print(sum_bumps/250)\n",
    "        "
   ]
  },
  {
   "cell_type": "code",
   "execution_count": 16,
   "id": "7a075711",
   "metadata": {},
   "outputs": [],
   "source": [
    "import pickle\n",
    "with open('agent_2_avg_bumps.pkl', 'rb') as f:\n",
    "    agent_2_avg_bumps = pickle.load(f)\n",
    "with open('agent_1_avg_bumps.pkl', 'rb') as f:\n",
    "    agent_1_avg_bumps = pickle.load(f)\n",
    "with open('agent_3_avg_bumps.pkl', 'rb') as f:\n",
    "    agent_3_avg_bumps = pickle.load(f)"
   ]
  },
  {
   "cell_type": "code",
   "execution_count": 17,
   "id": "57243501",
   "metadata": {},
   "outputs": [
    {
     "data": {
      "text/plain": [
       "<matplotlib.legend.Legend at 0x1e45b102700>"
      ]
     },
     "execution_count": 17,
     "metadata": {},
     "output_type": "execute_result"
    },
    {
     "data": {
      "image/png": "[encoded data removed]",
      "text/plain": [
       "<Figure size 432x288 with 1 Axes>"
      ]
     },
     "metadata": {
      "needs_background": "light"
     },
     "output_type": "display_data"
    }
   ],
   "source": [
    "import matplotlib.pyplot as plt\n",
    "plt.plot(p_values[:-1], agent_1_avg_bumps,color = \"red\", label=\"Agent-1\")\n",
    "plt.plot(p_values[:-1], agent_2_avg_bumps,color = \"blue\", label=\"Agent-2\")\n",
    "plt.plot(p_values[:-1], agent_3_avg_bumps,color = \"purple\", label=\"Agent-3\")\n",
    "plt.plot(p_values[:-1], avg_bumps,color = \"green\", label=\"Agent-4\")\n",
    "plt.xlabel('Value of p')\n",
    "plt.ylabel('Number of bumps')\n",
    "plt.legend()"
   ]
  },
  {
   "cell_type": "code",
   "execution_count": 18,
   "id": "40d84814",
   "metadata": {},
   "outputs": [
    {
     "data": {
      "text/plain": [
       "array([ -0.024,  -0.116,  -0.272,  -0.456,  -0.48 ,  -0.852,  -1.036,\n",
       "        -1.348,  -1.66 ,  -2.152,  -2.528,  -2.876,  -3.284,  -4.088,\n",
       "        -4.416,  -4.536,  -5.432,  -6.34 ,  -6.768,  -7.32 ,  -7.816,\n",
       "        -8.652,  -9.532, -10.216, -11.252, -11.624, -12.204, -12.952,\n",
       "       -14.788, -16.68 ])"
      ]
     },
     "execution_count": 18,
     "metadata": {},
     "output_type": "execute_result"
    }
   ],
   "source": [
    "np.array(avg_bumps) - np.array(agent_1_avg_bumps)"
   ]
  },
  {
   "cell_type": "code",
   "execution_count": 168,
   "id": "4bf884ac",
   "metadata": {},
   "outputs": [
    {
     "data": {
      "text/plain": [
       "[1.956,\n",
       " 4.184,\n",
       " 6.076,\n",
       " 8.304,\n",
       " 10.44,\n",
       " 12.84,\n",
       " 15.024,\n",
       " 17.072,\n",
       " 19.596,\n",
       " 22.016,\n",
       " 24.84,\n",
       " 27.732,\n",
       " 30.324,\n",
       " 33.38,\n",
       " 36.1,\n",
       " 39.332,\n",
       " 41.552,\n",
       " 46.148,\n",
       " 47.748,\n",
       " 52.564,\n",
       " 56.532,\n",
       " 58.32,\n",
       " 64.26,\n",
       " 69.288,\n",
       " 72.708,\n",
       " 77.592,\n",
       " 81.428,\n",
       " 88.752,\n",
       " 94.252,\n",
       " 104.58]"
      ]
     },
     "execution_count": 168,
     "metadata": {},
     "output_type": "execute_result"
    }
   ],
   "source": [
    "agent_1_avg_bumps"
   ]
  },
  {
   "cell_type": "code",
   "execution_count": 19,
   "id": "21f3cace",
   "metadata": {},
   "outputs": [],
   "source": [
    "# import pickle\n",
    "# with open('Agent-4-inference-done-on-negative.pkl', 'wb') as f:\n",
    "#        pickle.dump(avg_bumps, f)"
   ]
  },
  {
   "cell_type": "code",
   "execution_count": null,
   "id": "74a8d31f",
   "metadata": {},
   "outputs": [],
   "source": []
  },
  {
   "cell_type": "code",
   "execution_count": null,
   "id": "9b4de483",
   "metadata": {},
   "outputs": [],
   "source": []
  }
 ],
 "metadata": {
  "kernelspec": {
   "display_name": "Python 3",
   "language": "python",
   "name": "python3"
  },
  "language_info": {
   "codemirror_mode": {
    "name": "ipython",
    "version": 3
   },
   "file_extension": ".py",
   "mimetype": "text/x-python",
   "name": "python",
   "nbconvert_exporter": "python",
   "pygments_lexer": "ipython3",
   "version": "3.8.8"
  }
 },
 "nbformat": 4,
 "nbformat_minor": 5
}
