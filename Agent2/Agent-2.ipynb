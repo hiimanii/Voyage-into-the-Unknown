{
 "cells": [
  {
   "cell_type": "code",
   "execution_count": 1,
   "id": "8c3f96c4",
   "metadata": {},
   "outputs": [],
   "source": [
    "from sortedcontainers import SortedSet\n",
    "from math import sqrt\n",
    "import numpy as np\n",
    "## https://stackoverflow.com/questions/8875706/heapq-with-custom-compare-predicate/8875823\n",
    "# Priority Queue with custom comparator\n",
    "class MyPriorityQueue(object):\n",
    "    # compare1 is the function that will return f(n)-> sort in ascending order of f(n)\n",
    "    # compare2 is the function that will return g(n)-> sort in ascending order of g(n) if f(n) is same\n",
    "    def __init__(self, current_heuristic, target):\n",
    "        self.current_heuristic = current_heuristic\n",
    "        self._data = SortedSet()\n",
    "        self.target = target\n",
    "        self.g = dict()\n",
    "        self.h = dict()\n",
    "    def __len__(self):\n",
    "        return len(self._data)\n",
    "    #### It is required to update g(n) and h(n) before pushing the node into the priority queue\n",
    "    def push(self, item):\n",
    "        node = (self.calculate_priority(item), self.get_heuristic(item), item)\n",
    "        self._data.add(node)\n",
    "    def pop(self):\n",
    "        node = self._data.pop(0)[2]\n",
    "        return node\n",
    "    def manhattan_distance(self, x, y): # Manhattan Distance -> heuristic = |x1-x2| + |y1-y2|\n",
    "        return abs(x[0]-y[0])+abs(x[1]-y[1])\n",
    "    def euclidean_distance(self, x, y): # Euclidean Distance -> heuristic = sqrt( (x1-x2)**2 + (y1-y2)**2 )\n",
    "        return sqrt( (x[0]-y[0])**2 + (x[1]-y[1])**2 )\n",
    "    def chebyshev_distance(self, x, y): # Chebyshev Distance -> heuristic = max(|x1-x2|, |y1-y2|)\n",
    "        return max(abs(x[0]-y[0]), abs(x[1]-y[1]))\n",
    "    def get_heuristic(self, x):  # returns the value of heuristic based on the heuristic function\n",
    "        measure = self.current_heuristic\n",
    "        if measure == 'm': # if h is manhattan\n",
    "            self.h[x] = self.manhattan_distance(x, self.target)\n",
    "        elif measure == 'e': # if h is euclidean\n",
    "            self.h[x] = self.euclidean_distance(x, self.target)\n",
    "        elif measure == 'c': # if c is chebyshev\n",
    "            self.h[x] = self.chebyshev_distance(x, self.target)\n",
    "        return self.h[x]\n",
    "    def calculate_priority(self, x): # calculates priority for each cell - distance from cell to target\n",
    "        return self.g[x] + self.get_heuristic(x)\n",
    "\n",
    "class GridWorld3:\n",
    "    def __init__(self, grid, start, target, n, m, agent_grid = None ):\n",
    "        self.n = n # denotes the number of rows\n",
    "        self.m = m # denotes the number of columns\n",
    "        self.start = start # denotes the start coordinate of the grid\n",
    "        self.target = target # denotes the target coordinate of the grid\n",
    "        self.trajectory = [] # denotes the trajectory of the agent in the grid\n",
    "        self.grid = grid # denotes the full knowledge of the grid\n",
    "        if agent_grid is None:\n",
    "            self.agent_grid = np.full((n,n),'.')\n",
    "        else:\n",
    "            self.agent_grid = agent_grid\n",
    "        self.sum_num_cells_processed = 0\n",
    "        self.num_bumps = 0\n",
    "    def a_star(self, source, current_heuristic = 'm'):\n",
    "        dirx = [-1, 1, 0, 0] ## calculates the neighbours of the current node\n",
    "        diry = [0, 0, 1, -1] ## calculates the neighbours of the current node\n",
    "        visited = set() ## contains the nodes that have already been added in priority queue\n",
    "        closed_list = set() ## contains the nodes that have been popped from priority queue\n",
    "        open_list = MyPriorityQueue(current_heuristic, self.target) ## stores the visited nodes and pops it out according to it's priority\n",
    "        planned_path = [] ## Stores the path that the agent has planned according to it's current knowledge\n",
    "        open_list.g[source]=0\n",
    "        open_list.calculate_priority( source)\n",
    "        open_list.push( source) ## This function runs in O(logn)\n",
    "        visited.add(source)#visited[source] = 1\n",
    "        parent = {} ## stores the parent of each node that is visited\n",
    "        parent[source] = None\n",
    "        while(len(open_list)>0):\n",
    "            curr = open_list.pop()\n",
    "            if(curr in closed_list):\n",
    "                continue\n",
    "            self.sum_num_cells_processed = self.sum_num_cells_processed + 1\n",
    "            closed_list.add(curr)\n",
    "            if(curr[0] == self.target[0] and curr[1] == self.target[1]):\n",
    "                break\n",
    "            for i in np.arange(4):\n",
    "                childx = curr[0] + dirx[i]\n",
    "                childy = curr[1] + diry[i]\n",
    "                child = (childx, childy)\n",
    "                if(childx>=0 and childx<self.m and childy>=0 and childy<self.n and (child not in closed_list) and self.agent_grid[childx][childy]!='X'):\n",
    "                    if(child not in visited):\n",
    "                        visited.add(child)\n",
    "                        parent[child] = curr\n",
    "                        open_list.g[child] = open_list.g[curr]+1\n",
    "                        open_list.calculate_priority(child)\n",
    "                        open_list.push(child) \n",
    "                    else:\n",
    "                        if open_list.g[curr]+1<open_list.g[child]:\n",
    "                            parent[child] = curr\n",
    "                            open_list._data.discard(child)\n",
    "                            open_list.g[child] = open_list.g[curr]+1\n",
    "                            open_list.calculate_priority(child)\n",
    "                            open_list.push(child)\n",
    "        if(self.target not in visited):\n",
    "            return []\n",
    "        curr = self.target\n",
    "        while(curr != source):\n",
    "            planned_path.append(curr)\n",
    "            curr = parent[curr]\n",
    "        planned_path.append(source)\n",
    "        return planned_path[::-1]\n",
    "    \n",
    "    def check_planned_path(self, planned_path):\n",
    "        dirx = [-1, 1, 0, 0]\n",
    "        diry = [0, 0, -1, 1]\n",
    "        n = len(planned_path)\n",
    "        traversed_path = []\n",
    "        for i in np.arange(n):\n",
    "            currx = planned_path[i][0]\n",
    "            curry = planned_path[i][1]\n",
    "            if(self.grid[currx][curry] == 'X'):\n",
    "                self.agent_grid[currx][curry] = self.grid[currx][curry]\n",
    "                self.num_bumps+=1\n",
    "                break\n",
    "            traversed_path.append((currx,curry))\n",
    "        return traversed_path\n",
    "    \n",
    "    ## This is the function that computes the path that repeated a-star traverses\n",
    "    def compute_path(self):\n",
    "        path = []\n",
    "        curr = self.start\n",
    "        while(curr != self.target):\n",
    "            planned_path = self.a_star(curr)\n",
    "            if( len(planned_path) == 0 ):\n",
    "                return []\n",
    "            traversed_path = self.check_planned_path(planned_path)\n",
    "            n = len(traversed_path)\n",
    "            path.append(traversed_path)\n",
    "            if(traversed_path[n-1] == self.target):\n",
    "                break\n",
    "            curr = traversed_path[n-1]\n",
    "        return path"
   ]
  },
  {
   "cell_type": "code",
   "execution_count": 3,
   "id": "076ddfe4",
   "metadata": {},
   "outputs": [],
   "source": [
    "import numpy as np\n",
    "p_values = np.linspace(0,0.33,34)"
   ]
  },
  {
   "cell_type": "code",
   "execution_count": 5,
   "id": "1cf025be",
   "metadata": {},
   "outputs": [
    {
     "name": "stderr",
     "output_type": "stream",
     "text": [
      "\r",
      "  0%|                                                                                           | 0/34 [00:00<?, ?it/s]"
     ]
    },
    {
     "name": "stdout",
     "output_type": "stream",
     "text": [
      "Started for p:  0.01\n"
     ]
    },
    {
     "name": "stderr",
     "output_type": "stream",
     "text": [
      "\r",
      "  6%|████▉                                                                              | 2/34 [00:03<00:59,  1.87s/it]"
     ]
    },
    {
     "name": "stdout",
     "output_type": "stream",
     "text": [
      "1.956\n",
      "Started for p:  0.02\n"
     ]
    },
    {
     "name": "stderr",
     "output_type": "stream",
     "text": [
      "\r",
      "  9%|███████▎                                                                           | 3/34 [00:08<01:35,  3.07s/it]"
     ]
    },
    {
     "name": "stdout",
     "output_type": "stream",
     "text": [
      "4.068\n",
      "Started for p:  0.03\n"
     ]
    },
    {
     "name": "stderr",
     "output_type": "stream",
     "text": [
      "\r",
      " 12%|█████████▊                                                                         | 4/34 [00:14<02:03,  4.13s/it]"
     ]
    },
    {
     "name": "stdout",
     "output_type": "stream",
     "text": [
      "6.068\n",
      "Started for p:  0.04\n"
     ]
    },
    {
     "name": "stderr",
     "output_type": "stream",
     "text": [
      "\r",
      " 15%|████████████▏                                                                      | 5/34 [00:21<02:29,  5.15s/it]"
     ]
    },
    {
     "name": "stdout",
     "output_type": "stream",
     "text": [
      "8.524\n",
      "Started for p:  0.05\n"
     ]
    },
    {
     "name": "stderr",
     "output_type": "stream",
     "text": [
      "\r",
      " 18%|██████████████▋                                                                    | 6/34 [00:29<02:55,  6.27s/it]"
     ]
    },
    {
     "name": "stdout",
     "output_type": "stream",
     "text": [
      "11.028\n",
      "Started for p:  0.06\n"
     ]
    },
    {
     "name": "stderr",
     "output_type": "stream",
     "text": [
      "\r",
      " 21%|█████████████████                                                                  | 7/34 [00:40<03:27,  7.68s/it]"
     ]
    },
    {
     "name": "stdout",
     "output_type": "stream",
     "text": [
      "13.852\n",
      "Started for p:  0.07\n"
     ]
    },
    {
     "name": "stderr",
     "output_type": "stream",
     "text": [
      "\r",
      " 24%|███████████████████▌                                                               | 8/34 [00:52<03:53,  9.00s/it]"
     ]
    },
    {
     "name": "stdout",
     "output_type": "stream",
     "text": [
      "15.568\n",
      "Started for p:  0.08\n"
     ]
    },
    {
     "name": "stderr",
     "output_type": "stream",
     "text": [
      "\r",
      " 26%|█████████████████████▉                                                             | 9/34 [01:05<04:16, 10.24s/it]"
     ]
    },
    {
     "name": "stdout",
     "output_type": "stream",
     "text": [
      "19.4\n",
      "Started for p:  0.09\n"
     ]
    },
    {
     "name": "stderr",
     "output_type": "stream",
     "text": [
      "\r",
      " 29%|████████████████████████                                                          | 10/34 [01:19<04:31, 11.31s/it]"
     ]
    },
    {
     "name": "stdout",
     "output_type": "stream",
     "text": [
      "21.88\n",
      "Started for p:  0.1\n"
     ]
    },
    {
     "name": "stderr",
     "output_type": "stream",
     "text": [
      "\r",
      " 32%|██████████████████████████▌                                                       | 11/34 [01:35<04:51, 12.67s/it]"
     ]
    },
    {
     "name": "stdout",
     "output_type": "stream",
     "text": [
      "24.804\n",
      "Started for p:  0.11\n"
     ]
    },
    {
     "name": "stderr",
     "output_type": "stream",
     "text": [
      "\r",
      " 35%|████████████████████████████▉                                                     | 12/34 [01:51<05:04, 13.83s/it]"
     ]
    },
    {
     "name": "stdout",
     "output_type": "stream",
     "text": [
      "28.144\n",
      "Started for p:  0.12\n"
     ]
    },
    {
     "name": "stderr",
     "output_type": "stream",
     "text": [
      "\r",
      " 38%|███████████████████████████████▎                                                  | 13/34 [02:10<05:20, 15.25s/it]"
     ]
    },
    {
     "name": "stdout",
     "output_type": "stream",
     "text": [
      "31.044\n",
      "Started for p:  0.13\n"
     ]
    },
    {
     "name": "stderr",
     "output_type": "stream",
     "text": [
      "\r",
      " 41%|█████████████████████████████████▊                                                | 14/34 [02:29<05:32, 16.65s/it]"
     ]
    },
    {
     "name": "stdout",
     "output_type": "stream",
     "text": [
      "34.888\n",
      "Started for p:  0.14\n"
     ]
    },
    {
     "name": "stderr",
     "output_type": "stream",
     "text": [
      "\r",
      " 44%|████████████████████████████████████▏                                             | 15/34 [02:52<05:52, 18.55s/it]"
     ]
    },
    {
     "name": "stdout",
     "output_type": "stream",
     "text": [
      "38.528\n",
      "Started for p:  0.15\n"
     ]
    },
    {
     "name": "stderr",
     "output_type": "stream",
     "text": [
      "\r",
      " 47%|██████████████████████████████████████▌                                           | 16/34 [03:16<06:01, 20.08s/it]"
     ]
    },
    {
     "name": "stdout",
     "output_type": "stream",
     "text": [
      "42.748\n",
      "Started for p:  0.16\n"
     ]
    },
    {
     "name": "stderr",
     "output_type": "stream",
     "text": [
      "\r",
      " 50%|█████████████████████████████████████████                                         | 17/34 [03:43<06:17, 22.18s/it]"
     ]
    },
    {
     "name": "stdout",
     "output_type": "stream",
     "text": [
      "45.96\n",
      "Started for p:  0.17\n"
     ]
    },
    {
     "name": "stderr",
     "output_type": "stream",
     "text": [
      "\r",
      " 53%|███████████████████████████████████████████▍                                      | 18/34 [04:11<06:21, 23.83s/it]"
     ]
    },
    {
     "name": "stdout",
     "output_type": "stream",
     "text": [
      "49.236\n",
      "Started for p:  0.18\n"
     ]
    },
    {
     "name": "stderr",
     "output_type": "stream",
     "text": [
      "\r",
      " 56%|█████████████████████████████████████████████▊                                    | 19/34 [04:41<06:24, 25.64s/it]"
     ]
    },
    {
     "name": "stdout",
     "output_type": "stream",
     "text": [
      "54.28\n",
      "Started for p:  0.19\n"
     ]
    },
    {
     "name": "stderr",
     "output_type": "stream",
     "text": [
      "\r",
      " 59%|████████████████████████████████████████████████▏                                 | 20/34 [05:14<06:33, 28.08s/it]"
     ]
    },
    {
     "name": "stdout",
     "output_type": "stream",
     "text": [
      "60.16\n",
      "Started for p:  0.2\n"
     ]
    },
    {
     "name": "stderr",
     "output_type": "stream",
     "text": [
      "\r",
      " 62%|██████████████████████████████████████████████████▋                               | 21/34 [05:49<06:32, 30.16s/it]"
     ]
    },
    {
     "name": "stdout",
     "output_type": "stream",
     "text": [
      "65.344\n",
      "Started for p:  0.21\n"
     ]
    },
    {
     "name": "stderr",
     "output_type": "stream",
     "text": [
      "\r",
      " 65%|█████████████████████████████████████████████████████                             | 22/34 [06:27<06:28, 32.39s/it]"
     ]
    },
    {
     "name": "stdout",
     "output_type": "stream",
     "text": [
      "71.424\n",
      "Started for p:  0.22\n"
     ]
    },
    {
     "name": "stderr",
     "output_type": "stream",
     "text": [
      "\r",
      " 68%|███████████████████████████████████████████████████████▍                          | 23/34 [07:08<06:23, 34.84s/it]"
     ]
    },
    {
     "name": "stdout",
     "output_type": "stream",
     "text": [
      "76.536\n",
      "Started for p:  0.23\n"
     ]
    },
    {
     "name": "stderr",
     "output_type": "stream",
     "text": [
      "\r",
      " 71%|█████████████████████████████████████████████████████████▉                        | 24/34 [07:50<06:10, 37.08s/it]"
     ]
    },
    {
     "name": "stdout",
     "output_type": "stream",
     "text": [
      "83.168\n",
      "Started for p:  0.24\n"
     ]
    },
    {
     "name": "stderr",
     "output_type": "stream",
     "text": [
      "\r",
      " 74%|████████████████████████████████████████████████████████████▎                     | 25/34 [08:35<05:56, 39.58s/it]"
     ]
    },
    {
     "name": "stdout",
     "output_type": "stream",
     "text": [
      "87.664\n",
      "Started for p:  0.25\n"
     ]
    },
    {
     "name": "stderr",
     "output_type": "stream",
     "text": [
      " 74%|████████████████████████████████████████████████████████████▎                     | 25/34 [09:08<03:17, 21.95s/it]\n"
     ]
    },
    {
     "ename": "KeyboardInterrupt",
     "evalue": "",
     "output_type": "error",
     "traceback": [
      "\u001b[1;31m---------------------------------------------------------------------------\u001b[0m",
      "\u001b[1;31mKeyboardInterrupt\u001b[0m                         Traceback (most recent call last)",
      "\u001b[1;32m<ipython-input-5-e8469ebf7a17>\u001b[0m in \u001b[0;36m<module>\u001b[1;34m\u001b[0m\n\u001b[0;32m     51\u001b[0m             \u001b[0mgw\u001b[0m \u001b[1;33m=\u001b[0m \u001b[0mGridWorld3\u001b[0m\u001b[1;33m(\u001b[0m\u001b[0mgrid\u001b[0m\u001b[1;33m,\u001b[0m\u001b[1;33m(\u001b[0m\u001b[1;36m0\u001b[0m\u001b[1;33m,\u001b[0m\u001b[1;36m0\u001b[0m\u001b[1;33m)\u001b[0m\u001b[1;33m,\u001b[0m\u001b[1;33m(\u001b[0m\u001b[1;36m100\u001b[0m\u001b[1;33m,\u001b[0m\u001b[1;36m100\u001b[0m\u001b[1;33m)\u001b[0m\u001b[1;33m,\u001b[0m\u001b[1;36m101\u001b[0m\u001b[1;33m,\u001b[0m\u001b[1;36m101\u001b[0m\u001b[1;33m)\u001b[0m\u001b[1;33m\u001b[0m\u001b[1;33m\u001b[0m\u001b[0m\n\u001b[0;32m     52\u001b[0m             \u001b[1;31m## Calculating trajectory length in agent's world\u001b[0m\u001b[1;33m\u001b[0m\u001b[1;33m\u001b[0m\u001b[1;33m\u001b[0m\u001b[0m\n\u001b[1;32m---> 53\u001b[1;33m             \u001b[0mrep_a_trajectory\u001b[0m \u001b[1;33m=\u001b[0m \u001b[0mgw\u001b[0m\u001b[1;33m.\u001b[0m\u001b[0mcompute_path\u001b[0m\u001b[1;33m(\u001b[0m\u001b[1;33m)\u001b[0m \u001b[1;31m# Length1\u001b[0m\u001b[1;33m\u001b[0m\u001b[1;33m\u001b[0m\u001b[0m\n\u001b[0m\u001b[0;32m     54\u001b[0m             \u001b[0mreap_a_traj_len\u001b[0m \u001b[1;33m=\u001b[0m \u001b[0mcalculate_path_length\u001b[0m\u001b[1;33m(\u001b[0m\u001b[0mrep_a_trajectory\u001b[0m\u001b[1;33m)\u001b[0m\u001b[1;33m\u001b[0m\u001b[1;33m\u001b[0m\u001b[0m\n\u001b[0;32m     55\u001b[0m             \u001b[0msum_traj_len\u001b[0m \u001b[1;33m=\u001b[0m \u001b[0msum_traj_len\u001b[0m \u001b[1;33m+\u001b[0m \u001b[0mreap_a_traj_len\u001b[0m\u001b[1;33m\u001b[0m\u001b[1;33m\u001b[0m\u001b[0m\n",
      "\u001b[1;32m<ipython-input-1-1f7e41df50e0>\u001b[0m in \u001b[0;36mcompute_path\u001b[1;34m(self)\u001b[0m\n\u001b[0;32m    122\u001b[0m         \u001b[0mcurr\u001b[0m \u001b[1;33m=\u001b[0m \u001b[0mself\u001b[0m\u001b[1;33m.\u001b[0m\u001b[0mstart\u001b[0m\u001b[1;33m\u001b[0m\u001b[1;33m\u001b[0m\u001b[0m\n\u001b[0;32m    123\u001b[0m         \u001b[1;32mwhile\u001b[0m\u001b[1;33m(\u001b[0m\u001b[0mcurr\u001b[0m \u001b[1;33m!=\u001b[0m \u001b[0mself\u001b[0m\u001b[1;33m.\u001b[0m\u001b[0mtarget\u001b[0m\u001b[1;33m)\u001b[0m\u001b[1;33m:\u001b[0m\u001b[1;33m\u001b[0m\u001b[1;33m\u001b[0m\u001b[0m\n\u001b[1;32m--> 124\u001b[1;33m             \u001b[0mplanned_path\u001b[0m \u001b[1;33m=\u001b[0m \u001b[0mself\u001b[0m\u001b[1;33m.\u001b[0m\u001b[0ma_star\u001b[0m\u001b[1;33m(\u001b[0m\u001b[0mcurr\u001b[0m\u001b[1;33m)\u001b[0m\u001b[1;33m\u001b[0m\u001b[1;33m\u001b[0m\u001b[0m\n\u001b[0m\u001b[0;32m    125\u001b[0m             \u001b[1;32mif\u001b[0m\u001b[1;33m(\u001b[0m \u001b[0mlen\u001b[0m\u001b[1;33m(\u001b[0m\u001b[0mplanned_path\u001b[0m\u001b[1;33m)\u001b[0m \u001b[1;33m==\u001b[0m \u001b[1;36m0\u001b[0m \u001b[1;33m)\u001b[0m\u001b[1;33m:\u001b[0m\u001b[1;33m\u001b[0m\u001b[1;33m\u001b[0m\u001b[0m\n\u001b[0;32m    126\u001b[0m                 \u001b[1;32mreturn\u001b[0m \u001b[1;33m[\u001b[0m\u001b[1;33m]\u001b[0m\u001b[1;33m\u001b[0m\u001b[1;33m\u001b[0m\u001b[0m\n",
      "\u001b[1;32m<ipython-input-1-1f7e41df50e0>\u001b[0m in \u001b[0;36ma_star\u001b[1;34m(self, source, current_heuristic)\u001b[0m\n\u001b[0;32m     75\u001b[0m             \u001b[1;32mif\u001b[0m\u001b[1;33m(\u001b[0m\u001b[0mcurr\u001b[0m\u001b[1;33m[\u001b[0m\u001b[1;36m0\u001b[0m\u001b[1;33m]\u001b[0m \u001b[1;33m==\u001b[0m \u001b[0mself\u001b[0m\u001b[1;33m.\u001b[0m\u001b[0mtarget\u001b[0m\u001b[1;33m[\u001b[0m\u001b[1;36m0\u001b[0m\u001b[1;33m]\u001b[0m \u001b[1;32mand\u001b[0m \u001b[0mcurr\u001b[0m\u001b[1;33m[\u001b[0m\u001b[1;36m1\u001b[0m\u001b[1;33m]\u001b[0m \u001b[1;33m==\u001b[0m \u001b[0mself\u001b[0m\u001b[1;33m.\u001b[0m\u001b[0mtarget\u001b[0m\u001b[1;33m[\u001b[0m\u001b[1;36m1\u001b[0m\u001b[1;33m]\u001b[0m\u001b[1;33m)\u001b[0m\u001b[1;33m:\u001b[0m\u001b[1;33m\u001b[0m\u001b[1;33m\u001b[0m\u001b[0m\n\u001b[0;32m     76\u001b[0m                 \u001b[1;32mbreak\u001b[0m\u001b[1;33m\u001b[0m\u001b[1;33m\u001b[0m\u001b[0m\n\u001b[1;32m---> 77\u001b[1;33m             \u001b[1;32mfor\u001b[0m \u001b[0mi\u001b[0m \u001b[1;32min\u001b[0m \u001b[0mnp\u001b[0m\u001b[1;33m.\u001b[0m\u001b[0marange\u001b[0m\u001b[1;33m(\u001b[0m\u001b[1;36m4\u001b[0m\u001b[1;33m)\u001b[0m\u001b[1;33m:\u001b[0m\u001b[1;33m\u001b[0m\u001b[1;33m\u001b[0m\u001b[0m\n\u001b[0m\u001b[0;32m     78\u001b[0m                 \u001b[0mchildx\u001b[0m \u001b[1;33m=\u001b[0m \u001b[0mcurr\u001b[0m\u001b[1;33m[\u001b[0m\u001b[1;36m0\u001b[0m\u001b[1;33m]\u001b[0m \u001b[1;33m+\u001b[0m \u001b[0mdirx\u001b[0m\u001b[1;33m[\u001b[0m\u001b[0mi\u001b[0m\u001b[1;33m]\u001b[0m\u001b[1;33m\u001b[0m\u001b[1;33m\u001b[0m\u001b[0m\n\u001b[0;32m     79\u001b[0m                 \u001b[0mchildy\u001b[0m \u001b[1;33m=\u001b[0m \u001b[0mcurr\u001b[0m\u001b[1;33m[\u001b[0m\u001b[1;36m1\u001b[0m\u001b[1;33m]\u001b[0m \u001b[1;33m+\u001b[0m \u001b[0mdiry\u001b[0m\u001b[1;33m[\u001b[0m\u001b[0mi\u001b[0m\u001b[1;33m]\u001b[0m\u001b[1;33m\u001b[0m\u001b[1;33m\u001b[0m\u001b[0m\n",
      "\u001b[1;31mKeyboardInterrupt\u001b[0m: "
     ]
    }
   ],
   "source": [
    "# Density vs Average Trajectory Length\n",
    "# Density vs Average (Length of Trajectory / Length of Shortest Path in Final Discovered Gridworld (FDG) )\n",
    "from tqdm import tqdm\n",
    "import numpy as np\n",
    "cnt = 0\n",
    "p_values = np.round(p_values,2)\n",
    "result_x = p_values[1:50]\n",
    "avg_len_trajectory = []\n",
    "avg_traj_sp_fdg = [] # Density vs Average (Length of Trajectory / Length of Shortest Path in Final Discovered Gridworld (FDG) )\n",
    "avg_sp_fdg_sp_kn = [] # Average of shortest path in final discovered grid vs shortest path in known grid\n",
    "avg_num_cells_a_star = []\n",
    "avg_num_bumps = []\n",
    "samples = 250\n",
    "def update_final_discovered_grid(final_discovered_grid, rep_a_trajectory, grid):\n",
    "    m = len(final_discovered_grid)\n",
    "    n = len(final_discovered_grid[0])\n",
    "    dirx = [-1, 1, 0, 0]\n",
    "    diry = [0, 0, -1, 1]\n",
    "    for x in rep_a_trajectory:\n",
    "        for i in np.arange(len(x)):\n",
    "            pos = x[i]\n",
    "            final_discovered_grid[pos[0]][pos[1]] = grid[pos[0]][pos[1]]\n",
    "    return final_discovered_grid\n",
    "def calculate_path_length(ans_compute_path):\n",
    "    ans = 0\n",
    "    for x in ans_compute_path:\n",
    "        ans = ans + len(x)-1\n",
    "    return ans + 1\n",
    "for p in tqdm(p_values):\n",
    "    if p == 0 or  p== 1:\n",
    "        continue\n",
    "    with open('C:/Users/karan/Desktop/Rutgers Courses/CS520/Project2/Grid_data_Proj_2/'+'p'+str(p)+'.txt') as f:\n",
    "        print('Started for p: ',p)\n",
    "        grid_data = f.readlines()\n",
    "        freq = 0\n",
    "        sum_traj_len = 0\n",
    "        ratio1 = 0 # Length of trajectory / Length of Shortest Path in Final Discovered GridWorld\n",
    "        ratio2 = 0\n",
    "        sum_cell_processed = 0\n",
    "        sum_bumps = 0\n",
    "        cnt = 0\n",
    "        for s in grid_data:\n",
    "            i = 0\n",
    "            grid = [] ## matrix that contains full knowledge of gridworld\n",
    "            m = 101\n",
    "            n = 101\n",
    "            while(i<m*n):\n",
    "                grid.append(list(s[i:i+n]))\n",
    "                i = i + n\n",
    "            grid = np.array(grid)\n",
    "            gw = GridWorld3(grid,(0,0),(100,100),101,101)\n",
    "            ## Calculating trajectory length in agent's world\n",
    "            rep_a_trajectory = gw.compute_path() # Length1\n",
    "            reap_a_traj_len = calculate_path_length(rep_a_trajectory)\n",
    "            sum_traj_len = sum_traj_len + reap_a_traj_len \n",
    "            ## Calculating trjaectory length in final discovered grid\n",
    "            final_discovered_grid = np.full((101,101),'X')\n",
    "            final_discovered_grid = update_final_discovered_grid(final_discovered_grid, rep_a_trajectory, grid)\n",
    "            gw_final_discovered = GridWorld3(final_discovered_grid, (0,0), (100,100), 101, 101, agent_grid = final_discovered_grid)\n",
    "            shortest_path_final_discovered = gw_final_discovered.a_star((0,0),'m') #Length2\n",
    "            # Graph2 ratio1 = Avg( Length1/Length2 ) vs p\n",
    "            ratio1 = ratio1 + reap_a_traj_len/len(shortest_path_final_discovered)\n",
    "\n",
    "            #Calculaing shortest path length in Full Known grid\n",
    "            gw_full_known = GridWorld3(grid, (0,0),(100,100), 101, 101, agent_grid = grid)\n",
    "            shortest_path_full_known = gw_full_known.a_star((0,0),'m')# Length3\n",
    "            # Graph3 -> ratio2 = Avg(Length2/Length3) vs p\n",
    "            if(len(shortest_path_full_known)==0):\n",
    "                print(grid)\n",
    "            ratio2 = ratio2 + len(shortest_path_final_discovered)/len(shortest_path_full_known)\n",
    "            #Graph 4 -> p vs Avg cell processed\n",
    "            sum_cell_processed = sum_cell_processed + gw.sum_num_cells_processed\n",
    "            sum_bumps = sum_bumps + gw.num_bumps\n",
    "            cnt+=1\n",
    "            if(cnt == samples):\n",
    "                break\n",
    "        avg_len_trajectory.append(sum_traj_len/samples)\n",
    "        avg_traj_sp_fdg.append(ratio1/samples)\n",
    "        avg_sp_fdg_sp_kn.append(ratio2/samples)\n",
    "        avg_num_cells_a_star.append(sum_cell_processed/samples)\n",
    "        avg_num_bumps.append(sum_bumps/samples)\n",
    "        print(sum_bumps/samples)"
   ]
  },
  {
   "cell_type": "code",
   "execution_count": 4,
   "id": "ebd3421c",
   "metadata": {},
   "outputs": [
    {
     "data": {
      "text/plain": [
       "array([0.01, 0.02, 0.03, 0.04, 0.05, 0.06, 0.07, 0.08, 0.09, 0.1 , 0.11,\n",
       "       0.12, 0.13, 0.14, 0.15, 0.16, 0.17, 0.18, 0.19, 0.2 , 0.21, 0.22,\n",
       "       0.23, 0.24, 0.25, 0.26, 0.27, 0.28, 0.29])"
      ]
     },
     "execution_count": 4,
     "metadata": {},
     "output_type": "execute_result"
    }
   ],
   "source": [
    "result_x[:-1]"
   ]
  },
  {
   "cell_type": "code",
   "execution_count": 5,
   "id": "220f14af",
   "metadata": {},
   "outputs": [
    {
     "data": {
      "text/plain": [
       "[<matplotlib.lines.Line2D at 0x148f4771be0>]"
      ]
     },
     "execution_count": 5,
     "metadata": {},
     "output_type": "execute_result"
    },
    {
     "data": {
      "image/png": "[encoded data removed]",
      "text/plain": [
       "<Figure size 432x288 with 1 Axes>"
      ]
     },
     "metadata": {
      "needs_background": "light"
     },
     "output_type": "display_data"
    }
   ],
   "source": [
    "import matplotlib.pyplot as plt\n",
    "plt.plot(result_x[:],avg_num_bumps)"
   ]
  },
  {
   "cell_type": "code",
   "execution_count": 6,
   "id": "13fa0e31",
   "metadata": {},
   "outputs": [
    {
     "data": {
      "text/plain": [
       "[202.936,\n",
       " 205.416,\n",
       " 207.44,\n",
       " 210.048,\n",
       " 212.016,\n",
       " 215.352,\n",
       " 217.736,\n",
       " 220.496,\n",
       " 223.768,\n",
       " 228.256,\n",
       " 232.52,\n",
       " 236.424,\n",
       " 239.776,\n",
       " 244.768,\n",
       " 250.104,\n",
       " 253.8,\n",
       " 258.832,\n",
       " 266.568,\n",
       " 268.952,\n",
       " 279.416,\n",
       " 286.52,\n",
       " 290.936,\n",
       " 302.64,\n",
       " 315.648,\n",
       " 319.296,\n",
       " 334.168,\n",
       " 343.96,\n",
       " 359.344,\n",
       " 375.24,\n",
       " 400.832]"
      ]
     },
     "execution_count": 6,
     "metadata": {},
     "output_type": "execute_result"
    }
   ],
   "source": [
    "avg_len_trajectory"
   ]
  },
  {
   "cell_type": "code",
   "execution_count": 8,
   "id": "fd0edbd4",
   "metadata": {},
   "outputs": [],
   "source": [
    "# import pickle\n",
    "# with open('agent_2_avg_bumps.pkl', 'wb') as f:\n",
    "#     pickle.dump(avg_num_bumps, f)"
   ]
  },
  {
   "cell_type": "code",
   "execution_count": null,
   "id": "2d7c03bd",
   "metadata": {},
   "outputs": [],
   "source": []
  }
 ],
 "metadata": {
  "kernelspec": {
   "display_name": "Python 3",
   "language": "python",
   "name": "python3"
  },
  "language_info": {
   "codemirror_mode": {
    "name": "ipython",
    "version": 3
   },
   "file_extension": ".py",
   "mimetype": "text/x-python",
   "name": "python",
   "nbconvert_exporter": "python",
   "pygments_lexer": "ipython3",
   "version": "3.8.8"
  }
 },
 "nbformat": 4,
 "nbformat_minor": 5
}
