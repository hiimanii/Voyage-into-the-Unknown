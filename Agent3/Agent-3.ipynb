{
 "cells": [
  {
   "cell_type": "code",
   "execution_count": 15,
   "id": "5f4f0d3b",
   "metadata": {},
   "outputs": [],
   "source": [
    "import numpy as np\n",
    "from sortedcontainers import SortedSet\n",
    "from math import sqrt"
   ]
  },
  {
   "cell_type": "code",
   "execution_count": 16,
   "id": "7eaeb385",
   "metadata": {},
   "outputs": [],
   "source": [
    "class MyPriorityQueue(object):\n",
    "    def __init__(self, current_heuristic, target):\n",
    "        self.current_heuristic = current_heuristic\n",
    "        self._data = SortedSet()\n",
    "        self.target = target\n",
    "        self.g = dict()\n",
    "        self.h = dict()\n",
    "    def __len__(self):\n",
    "        return len(self._data)\n",
    "    def push(self, item):\n",
    "        node = (self.calculate_priority(item), self.get_heuristic(item), item)\n",
    "        self._data.add(node)\n",
    "    def pop(self):\n",
    "        node = self._data.pop(0)[2]\n",
    "        return node\n",
    "    def manhattan_distance(self, x, y): ### Manhattan Distance-> heuristic = |x0-y0| + |x1-y1|, x = [x0,x1] y = [y0,y1]\n",
    "        return abs(x[0] - y[0]) +abs(x[1] - y[1])\n",
    "    def euclidean_distance(self, x, y): ### Euclidean Distance-> heuristic = sqrt( (x0-y0)**2 + (x1-y1)**2 ), x = [x0,x1]\n",
    "                                        ##  y = [y0,y1]\n",
    "        return sqrt((x[0] - y[0])**2 + (x[1] - y[1])**2)\n",
    "    def chebyshev_distance(self, x, y): ### Chebyshev Distance-> heuristic = max(abs(x0-y0),abs(x1-y1)),\n",
    "                                        ### x = [x0,x1] y = [y0,y1]\n",
    "        return max(abs(x[0] - y[0]), abs(x[1] - y[1]))\n",
    "    def get_heuristic(self, x):\n",
    "        measure = self.current_heuristic\n",
    "        if measure == 'm':\n",
    "            self.h[x] = self.manhattan_distance(x, self.target)\n",
    "        elif measure == 'e':\n",
    "            self.h[x] = self.euclidean_distance(x, self.target)\n",
    "        elif measure == 'c':\n",
    "            self.h[x] = self.chebyshev_distance(x, self.target)\n",
    "        return self.h[x]\n",
    "    def calculate_priority(self, x):\n",
    "        return self.g[x] + self.get_heuristic(x)"
   ]
  },
  {
   "cell_type": "code",
   "execution_count": 17,
   "id": "aa1f8224",
   "metadata": {},
   "outputs": [],
   "source": [
    "class GridWorld:\n",
    "    def __init__(self, grid, start, target, n, m):\n",
    "        '''\n",
    "        Notations in grid: If grid contains 0, it means the cell is empty\n",
    "                            and if the grid contains 1, it means the cell is blocked\n",
    "                            and if the grid contains -1, it means the cell is unconfirmed\n",
    "        '''\n",
    "        self.n = n ## Number of columns\n",
    "        self.m = m ## Number of rows\n",
    "        self.start = start  ## Starting cell of the agent\n",
    "        self.target = target ## Target cell of the agent\n",
    "        self.trajectory = [] ## Trajectory followed by the agent\n",
    "        self.grid = grid  ## Grid containing complete knowledge\n",
    "        self.dirx8 = [0, 0, 1, -1, 1, -1, 1, -1] ## Directions used for sensing\n",
    "        self.diry8 = [1, -1, 0, 0, 1, -1, -1, 1] ## Directions used for sensing\n",
    "        self.dirx4 = [0, 0, 1, -1]  ## Directions used for traversing\n",
    "        self.diry4 = [1, -1, 0, 0]  ## Directions used for traversing\n",
    "        self.nx = {} # Number of neighbours cell x has\n",
    "        self.sensed_x = set() ## List of cells sensed by agent\n",
    "        self.status_x = {} ## Denotes the status of the cell. 1-> confirmed block, 0-> confirmed unblocked, \n",
    "                            ## -1 -> unconfirmed\n",
    "        self.cx = {} ## Denotes number of neighbours that are sensed to be blocked (using partial sensing)\n",
    "        self.bx = {} ## Denotes number of neighbours of x confirmed to be blocked\n",
    "        self.ex = {} ## Denotes number of neighbours of x confirmed to be empty\n",
    "        self.hx = {} ## Denotes number of neihbours of x that are unconfirmed\n",
    "        \n",
    "    def pre_computation(self):\n",
    "        for i in np.arange(self.m):\n",
    "            for j in np.arange(self.n):\n",
    "                nx = 0\n",
    "                for k in np.arange(8):\n",
    "                    childx = i + self.dirx8[k]\n",
    "                    childy = j + self.diry8[k]\n",
    "                    if(childx>=0 and childx<self.m and childy>=0 and childy<self.n):\n",
    "                        nx+=1\n",
    "                cell = (i,j)\n",
    "                self.nx[cell] = nx\n",
    "                self.hx[cell] = nx\n",
    "            \n",
    "    def partial_sensing(self, cell, agentGridObject):\n",
    "        ''' \n",
    "            Returns number of cells that are blocked by accessing true grid\n",
    "            Calculates number of neighbours of a cell\n",
    "            Calculates cx\n",
    "            initialises bx, ex, hx\n",
    "        '''\n",
    "        x = cell[0]\n",
    "        y = cell[1]\n",
    "        cx = 0\n",
    "        for i in np.arange(8):\n",
    "            childx = x + self.dirx8[i]\n",
    "            childy = y + self.diry8[i]\n",
    "            if(childx >= 0 and childx < self.m and childy>=0 and childy<self.n):\n",
    "                if(self.grid[childx][childy] == '1'):\n",
    "                    cx+=1\n",
    "        agentGridObject.cx[cell] = cx ## Updating partial sensing information for the agent\n",
    "        agentGridObject.ex[cell] = agentGridObject.ex.get(cell,0) ## Initialising number of confirmed empty cells in neighbourhood\n",
    "        agentGridObject.bx[cell] = agentGridObject.bx.get(cell,0) ## Initialising number of confirmed blocked cells in neighbourhood\n",
    "        agentGridObject.sensed_x.add(cell) ## Adding cell to the set of sensed cells\n",
    "        return cx\n",
    "    def visit_cell(self, cell, agentGridObject):\n",
    "        '''\n",
    "            If the agent goes to the next cell, it will get sense whether the next cell is blocked or not\n",
    "        '''\n",
    "        x = cell[0]\n",
    "        y = cell[1]\n",
    "        agentGridObject.status_x[cell] = int(self.grid[x][y])\n",
    "        agentGridObject.grid[x][y] = self.grid[x][y]\n",
    "        return int(self.grid[x][y])"
   ]
  },
  {
   "cell_type": "code",
   "execution_count": 18,
   "id": "110664c7",
   "metadata": {},
   "outputs": [],
   "source": [
    "from collections import deque\n",
    "class InferenceAgent3:\n",
    "    def __init__(self, agentGridObject):\n",
    "        # grid -> type of GridWorld object using which the inference agent will update the bookkeeping structures\n",
    "        self.agentGridObject = agentGridObject\n",
    "        self.dirx8 = [0, 0, 1, -1, 1, -1, 1, -1] ## Directions used for sensing\n",
    "        self.diry8 = [1, -1, 0, 0, 1, -1, -1, 1] ## Directions used for sensing\n",
    "    def mark_cell(self, type_, cell):\n",
    "        '''\n",
    "            It will update bookkeeping variables in the current cell and the neighboring cell \n",
    "            and will also mark the current cell.\n",
    "        '''\n",
    "        currx = cell[0]\n",
    "        curry = cell[1]\n",
    "        cell = (currx, curry)\n",
    "        if(type_ == 1):\n",
    "            self.agentGridObject.status_x[cell] = 1\n",
    "            self.agentGridObject.grid[currx][curry] = '1'\n",
    "        else:\n",
    "            self.agentGridObject.status_x[cell] = 0\n",
    "            self.agentGridObject.grid[currx][curry] = '0'\n",
    "        for i in np.arange(8):\n",
    "            childx = currx + self.dirx8[i]\n",
    "            childy = curry + self.diry8[i]\n",
    "            child = (childx, childy)\n",
    "            if(childx >= 0 and childx < self.agentGridObject.m and childy >= 0 and childy < self.agentGridObject.n):\n",
    "                if(type_ == 1):\n",
    "                    self.agentGridObject.bx[child] = self.agentGridObject.bx.get(child,0) + 1\n",
    "                else:\n",
    "                    self.agentGridObject.ex[child] = self.agentGridObject.ex.get(child,0) + 1\n",
    "                self.agentGridObject.hx[child] = self.agentGridObject.hx[child] - 1\n",
    "    def check_kb(self, cell):\n",
    "        '''\n",
    "        This function checks the three conditions of Knowledge Base and any condition is satisfied it:\n",
    "        1. returns 1 if all hidden neighbours are blocked, \n",
    "        2. returns 0 if all hidden neighbours are unblocked and \n",
    "        3. -1 if no condition is satisfied\n",
    "        '''\n",
    "        nx = self.agentGridObject.nx[cell]\n",
    "        cx = self.agentGridObject.cx.get(cell)\n",
    "        bx = self.agentGridObject.bx.get(cell,0)\n",
    "        self.agentGridObject.bx[cell] = bx\n",
    "        ex = self.agentGridObject.ex.get(cell,0)\n",
    "        self.agentGridObject.ex[cell] = ex\n",
    "        hx = self.agentGridObject.hx[cell]\n",
    "#         if( hx == 0 ):\n",
    "        if(cx is None):\n",
    "            return -1\n",
    "        if(cx == bx):\n",
    "            return 0\n",
    "        if(nx - cx == ex):\n",
    "            return 1\n",
    "        return -1\n",
    "        \n",
    "    def infer(self, type_, cell, cell_inferred):\n",
    "        '''\n",
    "            type_ = '1': cell is marked as blocked and need to update neighbours accordingly.\n",
    "            type_ = '0': cell is marked as unblocked and need to update neighbours accordingly.\n",
    "            \n",
    "            Initially, self.mark_cell(type, init_cell) is called to mark the cell and do the appropriate \n",
    "            changes related to bookkeeping to the neighbours. After visinting, we will get to know C_x and so we will \n",
    "            need to check knowledge base.\n",
    "            BookKeeping changes only happens to neighbours, hence\n",
    "            initially we only need to add the neighbours in the queue.\n",
    "            \n",
    "            The cells present in the queue are the nodes that have their Bx, Ex and Hx updated.\n",
    "            \n",
    "            Algorithm to propagate the inference:\n",
    "            2. Pop the element from q\n",
    "            2.1 Put present = False for the element popped. \n",
    "            3. Check the knowledge base conditions and mark the neighbouring nodes if any of the conditions is satisfied.\n",
    "                Call mark_cell(type_, cell) to mark the neighbouring nodes. (will not be satisfied for init_cell)\n",
    "            4. If neighbours are not already present in the queue, we will push the neighbours into the queue and mark them\n",
    "                present.\n",
    "            5. If the neighbour is already in the queue, don't do anyhting\n",
    "            6. Repeat from step 1.\n",
    "            \n",
    "            \n",
    "            If we are marking neighbouring cells, then add the neighbouring cells and their neighbours to the queue.\n",
    "            \n",
    "            We will keep a common visited nodes, for which we know c_x. And, if we know c_x then \n",
    "            for all nodes, for which we are updating h_x, e_x, b_x we will add them to queue\n",
    "            \n",
    "            3. If the type_ = '1' means that the cell was marked blocked.\n",
    "                Assumption: Cell is marked block\n",
    "                4. Updating the neighbours y:\n",
    "                    4.1 B_y = B_y + 1\n",
    "                    4.2 H_y = H_y - 1\n",
    "                5. Check the conditions of knowledge base for the neighbours\n",
    "        '''\n",
    "#         print(\"Infer: cell \",cell,\"##### status_x: \",self.agentGridObject.status_x)\n",
    "        m = self.agentGridObject.m\n",
    "        n = self.agentGridObject.n\n",
    "        q = deque() ## Queue to store the updated/marked nodes\n",
    "        present = set()\n",
    "        if(cell_inferred == False):\n",
    "            self.mark_cell(type_, cell)  # Marked the cell according to the type_ and updated the neighbours\n",
    "        res = self.check_kb(cell)\n",
    "        # Checked the knowledge base conditions to see if the neighbours are inferred or not\n",
    "        for i in np.arange(8):\n",
    "            childx = cell[0] + self.dirx8[i]\n",
    "            childy = cell[1] + self.diry8[i]\n",
    "            if(childx<0 or childx>=m or childy<0 or childy>=n):\n",
    "                continue\n",
    "            child = (childx, childy)\n",
    "            if(res!=-1):\n",
    "                if(child in self.agentGridObject.status_x and self.agentGridObject.status_x[child]!=-1):\n",
    "                    continue\n",
    "                self.mark_cell(type_ = res, cell = child)\n",
    "                for j in np.arange(8):\n",
    "                    child_childx = childx + self.dirx8[j]\n",
    "                    child_childy = childy + self.diry8[j]\n",
    "                    if(child_childx<0 or child_childx>=m or child_childy<0 or child_childy>=n):\n",
    "                        continue\n",
    "                    child_child = (child_childx, child_childy)\n",
    "                    ### the neighbours are already updated when we marked the cells\n",
    "                    if( child_child in self.agentGridObject.sensed_x and child_child not in present ):\n",
    "                        q.append(child_child)\n",
    "                        present.add(child_child)\n",
    "            if(child in self.agentGridObject.sensed_x and child not in present ):\n",
    "                q.append(child)\n",
    "                present.add(child)\n",
    "        \n",
    "        while(len(q) > 0):\n",
    "            curr_cell = q.popleft()\n",
    "            present.remove(curr_cell)\n",
    "            res = self.check_kb(curr_cell)\n",
    "            if(res==-1 or self.agentGridObject.hx[curr_cell] == 0):\n",
    "                continue\n",
    "            ### if res = 0 or res == -1:\n",
    "            ### Mark neighbours and update neighbour's neighbours and add all to the queue \n",
    "            ### if they are visited and not already present\n",
    "            for i in np.arange(8):\n",
    "                childx = curr_cell[0] + self.dirx8[i]\n",
    "                childy = curr_cell[1] + self.diry8[i]\n",
    "                if(childx<0 or childx>=m or childy<0 or childy>=n):\n",
    "                    continue\n",
    "                child = (childx, childy)\n",
    "                if(child in self.agentGridObject.status_x and self.agentGridObject.status_x[child]!=-1):\n",
    "                    continue\n",
    "                self.mark_cell(res,child)\n",
    "                for j in np.arange(8):\n",
    "                    child_childx = childx + self.dirx8[j]\n",
    "                    child_childy = childy + self.diry8[j]\n",
    "                    if(child_childx<0 or child_childx>=m or child_childy<0 or child_childy>=n):\n",
    "                        continue\n",
    "                    child_child = (child_childx, child_childy)\n",
    "                    if( child_child in self.agentGridObject.sensed_x and child_child not in present):\n",
    "                        q.append(child_child)\n",
    "                        present.add(child_child)\n",
    "                if(child in self.agentGridObject.sensed_x and child not in present):\n",
    "                    q.append(child)\n",
    "                    present.add(child)\n",
    "#         print(\"status_x: \",self.agentGridObject.status_x)\n",
    "        #### if res == 1 mark neighbours as blocked and add those neighbours in queue, and also add neighbour's neighbours\n",
    "        #### in queue. since they are updated. Similarly for res == 0. (Need to check knowledge base for the nodes in queue)\n",
    "        #### For res == -1, need to only add the neighbours since they are just updated and not marked.\n",
    "        \n",
    "        \n",
    "        ### Now, the node that has been popped out of queue has their e_x, b_x , h_x changed. If the neighbour's are\n",
    "        ### visited, only then we will check kb on those\n",
    "        ### cells. If res == 1 or 0. We will mark the neighbours and the neighbour's neighbour. If res == -1, we will\n",
    "        ### add only neighbours of the cell, since those neighbours are only updated.\n",
    "        \n",
    "        ## One important thing is that only hidden cells are marked when kb is satisfied.\n",
    "        \n",
    "        "
   ]
  },
  {
   "cell_type": "code",
   "execution_count": 19,
   "id": "a9c2ee68",
   "metadata": {},
   "outputs": [],
   "source": [
    "class Agent3:\n",
    "    def __init__(self, n, m, start, target, inference_agent, grid,agent_grid):\n",
    "        self.n = n ## Number of columns in grid\n",
    "        self.m = m ## Number of rows in the grid\n",
    "        self.start = start ## The start cell of the grid\n",
    "        self.target = target ## The target cell of the grid\n",
    "        self.agent_grid = agent_grid  ## The current knowledge of the agent_grid\n",
    "        self.dirx4 = [-1,1,0,0] ## 4 Directions for the agent to travel\n",
    "        self.diry4 = [0,0,-1,1] ## 4 Directions for the agent to travel\n",
    "        self.inference_agent = inference_agent\n",
    "        self.grid = grid # The full knowledge of the maze\n",
    "        self.num_bumps = 0 ## Number of bumps in planned_path\n",
    "        self.sum_num_cells_processed = 0\n",
    "        self.sum_a_star = 0\n",
    "    def a_star(self, source, current_heuristic = 'm'):\n",
    "        '''\n",
    "            A-star algorithm that plans path based on current knowledge of the agent\n",
    "        '''\n",
    "        dirx = [-1, 1, 0, 0] ## calculates the neighbours of the current node\n",
    "        diry = [0, 0, 1, -1] ## calculates the neighbours of the current node\n",
    "        visited = set() ## contains the nodes that have already been added in priority queue\n",
    "        closed_list = set() ## contains the nodes that have been popped from priority queue\n",
    "        open_list = MyPriorityQueue(current_heuristic, self.target) ## stores the visited nodes and pops it out \n",
    "                                                                    ## according to it's priority\n",
    "        planned_path = [] ## Stores the path that the agent has planned according to it's current knowledge\n",
    "        open_list.g[source]=0\n",
    "        open_list.calculate_priority( source)\n",
    "        open_list.push( source) ## This function runs in O(logn)\n",
    "        visited.add(source) #visited[source] = 1\n",
    "        parent = {} ## stores the parent of each node that is visited\n",
    "        parent[source] = None\n",
    "        while(len(open_list)>0):\n",
    "            curr = open_list.pop()\n",
    "            self.sum_num_cells_processed+=1\n",
    "            closed_list.add(curr)\n",
    "            if(curr[0] == self.target[0] and curr[1] == self.target[1]):\n",
    "                break\n",
    "            for i in np.arange(4):\n",
    "                childx = curr[0] + dirx[i]\n",
    "                childy = curr[1] + diry[i]\n",
    "                child = (childx, childy)\n",
    "                if(childx>=0 and childx<self.m and childy>=0 and childy<self.n and (child not in closed_list) and self.agent_grid.grid[childx][childy]!='1'):\n",
    "                    if(child not in visited):\n",
    "                        visited.add(child)\n",
    "                        parent[child] = curr\n",
    "                        open_list.g[child] = open_list.g[curr]+1\n",
    "                        open_list.calculate_priority(child)\n",
    "                        open_list.push(child) \n",
    "                    else:\n",
    "                        if open_list.g[curr]+1<open_list.g[child]:\n",
    "                            parent[child] = curr\n",
    "                            open_list._data.discard(child)\n",
    "                            open_list.g[child] = open_list.g[curr]+1\n",
    "                            open_list.calculate_priority(child)\n",
    "                            open_list.push(child)\n",
    "        if(self.target not in visited):\n",
    "            return []\n",
    "        curr = self.target\n",
    "        while(curr != source):\n",
    "            planned_path.append(curr)\n",
    "            curr = parent[curr]\n",
    "        planned_path.append(source)\n",
    "        return planned_path[::-1]\n",
    "    def check_planned_path(self, planned_path):\n",
    "        '''\n",
    "            The agent should call the inference agent after visiting every cell and the inference agent updates the current\n",
    "            knowledge of the agent. If the agent sees, that a node in the planned_path is blocked, then the agent will \n",
    "            start A-star again from the current node.\n",
    "            \n",
    "            There will be two types of updates in the current cell->\n",
    "            Type-0: The current node is set to unblocked, need to update the neighbours accordingly and propagate.\n",
    "            Type-1: The current node is set to blocked, need to update the neighbours accordingly and propagate.\n",
    "        '''\n",
    "        n =len(planned_path)\n",
    "        traversed_path = []\n",
    "        restart_cell = None\n",
    "        for i in np.arange(n):\n",
    "            cell = planned_path[i]\n",
    "            currx = cell[0]\n",
    "            curry = cell[1]\n",
    "            ## Function to update the neighbours if the current \n",
    "            ## cell is updated. Need to call for the current cell. ----> left to implement (might not be required)\n",
    "            ## self.inference_agent.update_neighbours(type_ = 1, cell) ## --> might not be required in the future, \n",
    "                                                                       ## in implementation\n",
    "            ## Function that will start to propagate the updated info of the current cell\n",
    "            \n",
    "            ## We will start inference only if the next cell is not sensed/infered since if the cell is already sensed then there\n",
    "            ## will be no update in current knowledge.\n",
    "            cell_inferred = False\n",
    "            if(cell in self.agent_grid.status_x and self.agent_grid.status_x[cell]>=0):\n",
    "                cell_inferred = True\n",
    "            if( cell not in self.agent_grid.sensed_x):\n",
    "                curr_status = self.grid.visit_cell(cell, self.agent_grid) ## Checking whether curr cell is blocked or not.\n",
    "                if(curr_status<1):\n",
    "                    self.grid.partial_sensing(cell, self.agent_grid) ## Cell is sensed only if it is not sensed or inferred before\n",
    "                self.agent_grid.grid[currx][curry] = str(curr_status) ## updating the agent_grid for the current cell.\n",
    "                if(curr_status<1):\n",
    "                    self.inference_agent.infer(curr_status,cell,cell_inferred) ##Start inferring about x \n",
    "            else:\n",
    "                curr_status =  self.agent_grid.status_x[cell]\n",
    "            if(curr_status == 1):\n",
    "                self.num_bumps += 1\n",
    "                restart_cell = planned_path[i-1]\n",
    "                break\n",
    "            ### the current node is unblocked so if the node in the planned_path is blocked, \n",
    "            ### then we need to update the restart node and break from this loop\n",
    "            ### Will check only the 4 nodes ahead of the current node, since, the inference \n",
    "            ### agent will not update beyond 4 nodes\n",
    "            planned_path_blocked = False\n",
    "            for j in np.arange(4):\n",
    "                if(i+j+1 >= n):\n",
    "                    break\n",
    "                next_cell = planned_path[i+j+1]\n",
    "                next_x = next_cell[0]\n",
    "                next_y = next_cell[1]\n",
    "                if(self.agent_grid.grid[next_x][next_y] == '1'):\n",
    "                    planned_path_blocked = True\n",
    "                    break\n",
    "            if(planned_path_blocked == True):\n",
    "                restart_cell = cell\n",
    "                traversed_path.append(cell)\n",
    "                break\n",
    "            traversed_path.append(cell)\n",
    "        return traversed_path, restart_cell\n",
    "            \n",
    "    def compute_path(self):\n",
    "        '''\n",
    "        \n",
    "        '''\n",
    "        self.agent_grid.pre_computation()\n",
    "        path = []\n",
    "        curr = self.start\n",
    "        while(curr != self.target):\n",
    "            self.sum_a_star+=1\n",
    "            planned_path = self.a_star(curr)\n",
    "            if( len(planned_path) == 0 ):\n",
    "                return []\n",
    "            traversed_path, restart_node = self.check_planned_path(planned_path)\n",
    "            n = len(traversed_path)\n",
    "            path.append(traversed_path)\n",
    "            if(traversed_path[n-1] == self.target):\n",
    "                break\n",
    "            curr = restart_node\n",
    "        return path"
   ]
  },
  {
   "cell_type": "code",
   "execution_count": 20,
   "id": "f72b1d6e",
   "metadata": {},
   "outputs": [
    {
     "name": "stdout",
     "output_type": "stream",
     "text": [
      "100\n",
      "39\n"
     ]
    }
   ],
   "source": [
    "grid = '....XXXX..XX......X....XX.XXX..X....X.....XXXX..X.X..XX...X...XX..XX.....X.X...XXX.X.X.X.X.X...X.X..'\n",
    "s = ''\n",
    "cnt =0\n",
    "for x in grid:\n",
    "    if(x == '.'):\n",
    "        s = s + '0'\n",
    "    else:\n",
    "        cnt+=1\n",
    "        s = s + '1'\n",
    "print(len(s))\n",
    "print(cnt)"
   ]
  },
  {
   "cell_type": "code",
   "execution_count": null,
   "id": "72947c07",
   "metadata": {},
   "outputs": [],
   "source": []
  },
  {
   "cell_type": "code",
   "execution_count": null,
   "id": "57a861c3",
   "metadata": {},
   "outputs": [],
   "source": []
  },
  {
   "cell_type": "code",
   "execution_count": 21,
   "id": "6ecdfe91",
   "metadata": {},
   "outputs": [
    {
     "name": "stdout",
     "output_type": "stream",
     "text": [
      "[['0' '0' '0' '0' '1' '1' '1' '1' '0' '0']\n",
      " ['1' '1' '0' '0' '0' '0' '0' '0' '1' '0']\n",
      " ['0' '0' '0' '1' '1' '0' '1' '1' '1' '0']\n",
      " ['0' '1' '0' '0' '0' '0' '1' '0' '0' '0']\n",
      " ['0' '0' '1' '1' '1' '1' '0' '0' '1' '0']\n",
      " ['1' '0' '0' '1' '1' '0' '0' '0' '1' '0']\n",
      " ['0' '0' '1' '1' '0' '0' '1' '1' '0' '0']\n",
      " ['0' '0' '0' '1' '0' '1' '0' '0' '0' '1']\n",
      " ['1' '1' '0' '1' '0' '1' '0' '1' '0' '1']\n",
      " ['0' '1' '0' '0' '0' '1' '0' '1' '0' '0']]\n"
     ]
    }
   ],
   "source": [
    "n = 10\n",
    "grid = [] ## matrix that contains full knowledge of gridworld\n",
    "i = 0\n",
    "while(i<n*n):\n",
    "    grid.append(list(s[i:i+n]))\n",
    "    i = i + n\n",
    "grid = np.array(grid)\n",
    "print(grid)"
   ]
  },
  {
   "cell_type": "code",
   "execution_count": 22,
   "id": "afcc3a08",
   "metadata": {},
   "outputs": [
    {
     "data": {
      "text/plain": [
       "'0'"
      ]
     },
     "execution_count": 22,
     "metadata": {},
     "output_type": "execute_result"
    }
   ],
   "source": [
    "str(grid[0][0])"
   ]
  },
  {
   "cell_type": "code",
   "execution_count": 23,
   "id": "cd2d8d37",
   "metadata": {},
   "outputs": [],
   "source": [
    "grid = np.array([\n",
    "    ['0','0','1','0','1'],\n",
    "    ['0','1','1','1','1'],\n",
    "    ['0','0','0','0','0'],\n",
    "    ['0','0','0','0','0'],\n",
    "    ['0','0','0','0','0']\n",
    "])"
   ]
  },
  {
   "cell_type": "code",
   "execution_count": 24,
   "id": "898a863f",
   "metadata": {},
   "outputs": [
    {
     "name": "stdout",
     "output_type": "stream",
     "text": [
      "2\n"
     ]
    }
   ],
   "source": [
    "n = 5\n",
    "m = 5\n",
    "start = (0,0)\n",
    "target = (m-1,n-1)\n",
    "gridObject = GridWorld(grid, start, target, n, m) ### Original grid knowledge object\n",
    "agentGridObject = GridWorld(np.full((m,n),'0'), start, target, n, m) ### Agent Grid Object\n",
    "inference_agent = InferenceAgent3(agentGridObject) ### AgentGrid\n",
    "grid_agent = Agent3(n,m,start,target,inference_agent,gridObject, agentGridObject)\n",
    "grid_agent.compute_path()\n",
    "print(grid_agent.num_bumps)"
   ]
  },
  {
   "cell_type": "code",
   "execution_count": 25,
   "id": "5b35de0f",
   "metadata": {},
   "outputs": [
    {
     "name": "stdout",
     "output_type": "stream",
     "text": [
      "2\n"
     ]
    }
   ],
   "source": [
    "print(grid_agent.num_bumps)"
   ]
  },
  {
   "cell_type": "code",
   "execution_count": null,
   "id": "133df422",
   "metadata": {},
   "outputs": [],
   "source": []
  },
  {
   "cell_type": "code",
   "execution_count": 26,
   "id": "b8309903",
   "metadata": {},
   "outputs": [
    {
     "name": "stdout",
     "output_type": "stream",
     "text": [
      "[0.   0.01 0.02 0.03 0.04 0.05 0.06 0.07 0.08 0.09 0.1  0.11 0.12 0.13\n",
      " 0.14 0.15 0.16 0.17 0.18 0.19 0.2  0.21 0.22 0.23 0.24 0.25 0.26 0.27\n",
      " 0.28 0.29 0.3  0.31 0.32 0.33]\n"
     ]
    }
   ],
   "source": [
    "import numpy as np\n",
    "p_values = np.linspace(0,0.33,34)\n",
    "print(p_values)\n",
    "# result_x = p_values[1:50]"
   ]
  },
  {
   "cell_type": "code",
   "execution_count": 28,
   "id": "5c7ab003",
   "metadata": {
    "scrolled": true
   },
   "outputs": [
    {
     "name": "stderr",
     "output_type": "stream",
     "text": [
      "\r",
      "  0%|                                                                                           | 0/34 [00:00<?, ?it/s]"
     ]
    },
    {
     "name": "stdout",
     "output_type": "stream",
     "text": [
      "Started for p:  0.01\n"
     ]
    },
    {
     "name": "stderr",
     "output_type": "stream",
     "text": [
      "\r",
      "  6%|████▉                                                                              | 2/34 [00:31<08:26, 15.81s/it]"
     ]
    },
    {
     "name": "stdout",
     "output_type": "stream",
     "text": [
      "1.896\n",
      "Started for p:  0.02\n"
     ]
    },
    {
     "name": "stderr",
     "output_type": "stream",
     "text": [
      "\r",
      "  9%|███████▎                                                                           | 3/34 [01:04<11:50, 22.93s/it]"
     ]
    },
    {
     "name": "stdout",
     "output_type": "stream",
     "text": [
      "3.852\n",
      "Started for p:  0.03\n"
     ]
    },
    {
     "name": "stderr",
     "output_type": "stream",
     "text": [
      "\r",
      " 12%|█████████▊                                                                         | 4/34 [01:38<13:32, 27.09s/it]"
     ]
    },
    {
     "name": "stdout",
     "output_type": "stream",
     "text": [
      "5.764\n",
      "Started for p:  0.04\n"
     ]
    },
    {
     "name": "stderr",
     "output_type": "stream",
     "text": [
      "\r",
      " 15%|████████████▏                                                                      | 5/34 [02:12<14:17, 29.58s/it]"
     ]
    },
    {
     "name": "stdout",
     "output_type": "stream",
     "text": [
      "8.036\n",
      "Started for p:  0.05\n"
     ]
    },
    {
     "name": "stderr",
     "output_type": "stream",
     "text": [
      "\r",
      " 18%|██████████████▋                                                                    | 6/34 [02:49<14:49, 31.76s/it]"
     ]
    },
    {
     "name": "stdout",
     "output_type": "stream",
     "text": [
      "10.192\n",
      "Started for p:  0.06\n"
     ]
    },
    {
     "name": "stderr",
     "output_type": "stream",
     "text": [
      "\r",
      " 21%|█████████████████                                                                  | 7/34 [03:26<15:06, 33.57s/it]"
     ]
    },
    {
     "name": "stdout",
     "output_type": "stream",
     "text": [
      "12.788\n",
      "Started for p:  0.07\n"
     ]
    },
    {
     "name": "stderr",
     "output_type": "stream",
     "text": [
      "\r",
      " 24%|███████████████████▌                                                               | 8/34 [04:03<15:03, 34.76s/it]"
     ]
    },
    {
     "name": "stdout",
     "output_type": "stream",
     "text": [
      "14.12\n",
      "Started for p:  0.08\n"
     ]
    },
    {
     "name": "stderr",
     "output_type": "stream",
     "text": [
      "\r",
      " 26%|█████████████████████▉                                                             | 9/34 [04:42<15:03, 36.14s/it]"
     ]
    },
    {
     "name": "stdout",
     "output_type": "stream",
     "text": [
      "17.4\n",
      "Started for p:  0.09\n"
     ]
    },
    {
     "name": "stderr",
     "output_type": "stream",
     "text": [
      " 26%|█████████████████████▉                                                             | 9/34 [04:45<13:11, 31.68s/it]\n"
     ]
    },
    {
     "ename": "KeyboardInterrupt",
     "evalue": "",
     "output_type": "error",
     "traceback": [
      "\u001b[1;31m---------------------------------------------------------------------------\u001b[0m",
      "\u001b[1;31mKeyboardInterrupt\u001b[0m                         Traceback (most recent call last)",
      "\u001b[1;32m<ipython-input-28-37a6d2b873e1>\u001b[0m in \u001b[0;36m<module>\u001b[1;34m\u001b[0m\n\u001b[0;32m     51\u001b[0m             \u001b[0minference_agent\u001b[0m \u001b[1;33m=\u001b[0m \u001b[0mInferenceAgent3\u001b[0m\u001b[1;33m(\u001b[0m\u001b[0magentGridObject\u001b[0m\u001b[1;33m)\u001b[0m \u001b[1;31m### Inference Agent Grid\u001b[0m\u001b[1;33m\u001b[0m\u001b[1;33m\u001b[0m\u001b[0m\n\u001b[0;32m     52\u001b[0m             \u001b[0mgrid_agent\u001b[0m \u001b[1;33m=\u001b[0m \u001b[0mAgent3\u001b[0m\u001b[1;33m(\u001b[0m\u001b[0mn\u001b[0m\u001b[1;33m,\u001b[0m\u001b[0mm\u001b[0m\u001b[1;33m,\u001b[0m\u001b[0mstart\u001b[0m\u001b[1;33m,\u001b[0m\u001b[0mtarget\u001b[0m\u001b[1;33m,\u001b[0m\u001b[0minference_agent\u001b[0m\u001b[1;33m,\u001b[0m\u001b[0mgridObject\u001b[0m\u001b[1;33m,\u001b[0m \u001b[0magentGridObject\u001b[0m\u001b[1;33m)\u001b[0m\u001b[1;33m\u001b[0m\u001b[1;33m\u001b[0m\u001b[0m\n\u001b[1;32m---> 53\u001b[1;33m             \u001b[0mans\u001b[0m \u001b[1;33m=\u001b[0m \u001b[0mgrid_agent\u001b[0m\u001b[1;33m.\u001b[0m\u001b[0mcompute_path\u001b[0m\u001b[1;33m(\u001b[0m\u001b[1;33m)\u001b[0m\u001b[1;33m\u001b[0m\u001b[1;33m\u001b[0m\u001b[0m\n\u001b[0m\u001b[0;32m     54\u001b[0m             \u001b[0msum_num_cells_processed\u001b[0m \u001b[1;33m+=\u001b[0m \u001b[0mgrid_agent\u001b[0m\u001b[1;33m.\u001b[0m\u001b[0msum_num_cells_processed\u001b[0m\u001b[1;33m\u001b[0m\u001b[1;33m\u001b[0m\u001b[0m\n\u001b[0;32m     55\u001b[0m             \u001b[0msum_bumps\u001b[0m \u001b[1;33m+=\u001b[0m \u001b[0mgrid_agent\u001b[0m\u001b[1;33m.\u001b[0m\u001b[0mnum_bumps\u001b[0m\u001b[1;33m\u001b[0m\u001b[1;33m\u001b[0m\u001b[0m\n",
      "\u001b[1;32m<ipython-input-19-78ec84f24211>\u001b[0m in \u001b[0;36mcompute_path\u001b[1;34m(self)\u001b[0m\n\u001b[0;32m    136\u001b[0m             \u001b[1;32mif\u001b[0m\u001b[1;33m(\u001b[0m \u001b[0mlen\u001b[0m\u001b[1;33m(\u001b[0m\u001b[0mplanned_path\u001b[0m\u001b[1;33m)\u001b[0m \u001b[1;33m==\u001b[0m \u001b[1;36m0\u001b[0m \u001b[1;33m)\u001b[0m\u001b[1;33m:\u001b[0m\u001b[1;33m\u001b[0m\u001b[1;33m\u001b[0m\u001b[0m\n\u001b[0;32m    137\u001b[0m                 \u001b[1;32mreturn\u001b[0m \u001b[1;33m[\u001b[0m\u001b[1;33m]\u001b[0m\u001b[1;33m\u001b[0m\u001b[1;33m\u001b[0m\u001b[0m\n\u001b[1;32m--> 138\u001b[1;33m             \u001b[0mtraversed_path\u001b[0m\u001b[1;33m,\u001b[0m \u001b[0mrestart_node\u001b[0m \u001b[1;33m=\u001b[0m \u001b[0mself\u001b[0m\u001b[1;33m.\u001b[0m\u001b[0mcheck_planned_path\u001b[0m\u001b[1;33m(\u001b[0m\u001b[0mplanned_path\u001b[0m\u001b[1;33m)\u001b[0m\u001b[1;33m\u001b[0m\u001b[1;33m\u001b[0m\u001b[0m\n\u001b[0m\u001b[0;32m    139\u001b[0m             \u001b[0mn\u001b[0m \u001b[1;33m=\u001b[0m \u001b[0mlen\u001b[0m\u001b[1;33m(\u001b[0m\u001b[0mtraversed_path\u001b[0m\u001b[1;33m)\u001b[0m\u001b[1;33m\u001b[0m\u001b[1;33m\u001b[0m\u001b[0m\n\u001b[0;32m    140\u001b[0m             \u001b[0mpath\u001b[0m\u001b[1;33m.\u001b[0m\u001b[0mappend\u001b[0m\u001b[1;33m(\u001b[0m\u001b[0mtraversed_path\u001b[0m\u001b[1;33m)\u001b[0m\u001b[1;33m\u001b[0m\u001b[1;33m\u001b[0m\u001b[0m\n",
      "\u001b[1;32m<ipython-input-19-78ec84f24211>\u001b[0m in \u001b[0;36mcheck_planned_path\u001b[1;34m(self, planned_path)\u001b[0m\n\u001b[0;32m    108\u001b[0m             \u001b[1;31m### agent will not update beyond 4 nodes\u001b[0m\u001b[1;33m\u001b[0m\u001b[1;33m\u001b[0m\u001b[1;33m\u001b[0m\u001b[0m\n\u001b[0;32m    109\u001b[0m             \u001b[0mplanned_path_blocked\u001b[0m \u001b[1;33m=\u001b[0m \u001b[1;32mFalse\u001b[0m\u001b[1;33m\u001b[0m\u001b[1;33m\u001b[0m\u001b[0m\n\u001b[1;32m--> 110\u001b[1;33m             \u001b[1;32mfor\u001b[0m \u001b[0mj\u001b[0m \u001b[1;32min\u001b[0m \u001b[0mnp\u001b[0m\u001b[1;33m.\u001b[0m\u001b[0marange\u001b[0m\u001b[1;33m(\u001b[0m\u001b[1;36m4\u001b[0m\u001b[1;33m)\u001b[0m\u001b[1;33m:\u001b[0m\u001b[1;33m\u001b[0m\u001b[1;33m\u001b[0m\u001b[0m\n\u001b[0m\u001b[0;32m    111\u001b[0m                 \u001b[1;32mif\u001b[0m\u001b[1;33m(\u001b[0m\u001b[0mi\u001b[0m\u001b[1;33m+\u001b[0m\u001b[0mj\u001b[0m\u001b[1;33m+\u001b[0m\u001b[1;36m1\u001b[0m \u001b[1;33m>=\u001b[0m \u001b[0mn\u001b[0m\u001b[1;33m)\u001b[0m\u001b[1;33m:\u001b[0m\u001b[1;33m\u001b[0m\u001b[1;33m\u001b[0m\u001b[0m\n\u001b[0;32m    112\u001b[0m                     \u001b[1;32mbreak\u001b[0m\u001b[1;33m\u001b[0m\u001b[1;33m\u001b[0m\u001b[0m\n",
      "\u001b[1;31mKeyboardInterrupt\u001b[0m: "
     ]
    }
   ],
   "source": [
    "### Plots --> avg len of trajectory, avg number of cells processed, avg num of bumps\n",
    "\n",
    "def calculate_path_length(ans_compute_path):\n",
    "    ans = 0\n",
    "    for x in ans_compute_path:\n",
    "        ans = ans + len(x)-1\n",
    "    return ans + 1\n",
    "from tqdm import tqdm\n",
    "cnt = 0\n",
    "result_y = []\n",
    "# p_values = np.round(p_values,2)\n",
    "# result_x = p_values[1:50]\n",
    "avg_num_cells_processed = []\n",
    "avg_bumps = []\n",
    "avg_astar = []\n",
    "avg_len_trajectory = []\n",
    "m = 101\n",
    "n = 101\n",
    "start = (0,0)\n",
    "target = (m-1,n-1)\n",
    "for p in tqdm(p_values):\n",
    "    if p == 0 or  p== 1:\n",
    "        continue\n",
    "    print(\"Started for p: \",p)\n",
    "    sum_num_cells_processed = 0\n",
    "    sum_bumps = 0\n",
    "    sum_astar = 0\n",
    "    cnt = 0\n",
    "    with open('C:/Users/karan/Desktop/Rutgers Courses/CS520/Project2/Grid_data_Proj_2/'+'p'+str(p)+'.txt') as f:\n",
    "        grid_data = f.readlines()\n",
    "        freq = 0\n",
    "        for s in grid_data:\n",
    "            new_s = ''\n",
    "            for c in s:\n",
    "                if(c == '.'):\n",
    "                    new_s +='0'\n",
    "                else:\n",
    "                    new_s += '1'\n",
    "            i = 0\n",
    "            grid = [] ## matrix that contains full knowledge of gridworld\n",
    "            m = 101\n",
    "            n = 101\n",
    "            start = (0,0)\n",
    "            target = (m-1,n-1)\n",
    "            while(i<m*n):\n",
    "                grid.append(list(new_s[i:i+n]))\n",
    "                i = i + n\n",
    "            grid = np.array(grid)\n",
    "            gridObject = GridWorld(grid, start, target, n, m) ### Original grid knowledge object\n",
    "            agentGridObject = GridWorld(np.full((m,n),'0'), start, target, n, m) ### Agent Grid Object\n",
    "            inference_agent = InferenceAgent3(agentGridObject) ### Inference Agent Grid\n",
    "            grid_agent = Agent3(n,m,start,target,inference_agent,gridObject, agentGridObject)\n",
    "            ans = grid_agent.compute_path()\n",
    "            sum_num_cells_processed += grid_agent.sum_num_cells_processed\n",
    "            sum_bumps += grid_agent.num_bumps\n",
    "            sum_astar += grid_agent.sum_a_star\n",
    "            cnt+=1\n",
    "            if(cnt == 250):\n",
    "                break\n",
    "        avg_num_cells_processed.append(sum_num_cells_processed/250)\n",
    "        avg_bumps.append(sum_bumps/250)\n",
    "        avg_astar.append(sum_astar/250)\n",
    "        \n",
    "        print(sum_bumps/250)\n",
    "        "
   ]
  },
  {
   "cell_type": "code",
   "execution_count": null,
   "id": "f970c406",
   "metadata": {},
   "outputs": [],
   "source": [
    "ans"
   ]
  },
  {
   "cell_type": "code",
   "execution_count": 32,
   "id": "53e5b9bf",
   "metadata": {},
   "outputs": [
    {
     "data": {
      "text/plain": [
       "[1.936, 4.116, 5.92, 8.072]"
      ]
     },
     "execution_count": 32,
     "metadata": {},
     "output_type": "execute_result"
    }
   ],
   "source": [
    "avg_bumps"
   ]
  },
  {
   "cell_type": "code",
   "execution_count": 33,
   "id": "d30b684f",
   "metadata": {},
   "outputs": [
    {
     "ename": "NameError",
     "evalue": "name 'agent_1_avg_bumps' is not defined",
     "output_type": "error",
     "traceback": [
      "\u001b[1;31m---------------------------------------------------------------------------\u001b[0m",
      "\u001b[1;31mNameError\u001b[0m                                 Traceback (most recent call last)",
      "\u001b[1;32m<ipython-input-33-56bfe8355e57>\u001b[0m in \u001b[0;36m<module>\u001b[1;34m\u001b[0m\n\u001b[0;32m      1\u001b[0m \u001b[1;32mimport\u001b[0m \u001b[0mmatplotlib\u001b[0m\u001b[1;33m.\u001b[0m\u001b[0mpyplot\u001b[0m \u001b[1;32mas\u001b[0m \u001b[0mplt\u001b[0m\u001b[1;33m\u001b[0m\u001b[1;33m\u001b[0m\u001b[0m\n\u001b[1;32m----> 2\u001b[1;33m \u001b[0mplt\u001b[0m\u001b[1;33m.\u001b[0m\u001b[0mplot\u001b[0m\u001b[1;33m(\u001b[0m\u001b[0mp_values\u001b[0m\u001b[1;33m[\u001b[0m\u001b[1;33m:\u001b[0m\u001b[1;33m-\u001b[0m\u001b[1;36m1\u001b[0m\u001b[1;33m]\u001b[0m\u001b[1;33m,\u001b[0m \u001b[0magent_1_avg_bumps\u001b[0m\u001b[1;33m,\u001b[0m\u001b[0mcolor\u001b[0m \u001b[1;33m=\u001b[0m \u001b[1;34m\"red\"\u001b[0m\u001b[1;33m,\u001b[0m \u001b[0mlabel\u001b[0m\u001b[1;33m=\u001b[0m\u001b[1;34m\"Agent-1\"\u001b[0m\u001b[1;33m)\u001b[0m\u001b[1;33m\u001b[0m\u001b[1;33m\u001b[0m\u001b[0m\n\u001b[0m\u001b[0;32m      3\u001b[0m \u001b[0mplt\u001b[0m\u001b[1;33m.\u001b[0m\u001b[0mplot\u001b[0m\u001b[1;33m(\u001b[0m\u001b[0mp_values\u001b[0m\u001b[1;33m[\u001b[0m\u001b[1;33m:\u001b[0m\u001b[1;33m-\u001b[0m\u001b[1;36m1\u001b[0m\u001b[1;33m]\u001b[0m\u001b[1;33m,\u001b[0m \u001b[0magent_2_avg_bumps\u001b[0m\u001b[1;33m,\u001b[0m\u001b[0mcolor\u001b[0m \u001b[1;33m=\u001b[0m \u001b[1;34m\"blue\"\u001b[0m\u001b[1;33m,\u001b[0m \u001b[0mlabel\u001b[0m\u001b[1;33m=\u001b[0m\u001b[1;34m\"Agent-2\"\u001b[0m\u001b[1;33m)\u001b[0m\u001b[1;33m\u001b[0m\u001b[1;33m\u001b[0m\u001b[0m\n\u001b[0;32m      4\u001b[0m \u001b[0mplt\u001b[0m\u001b[1;33m.\u001b[0m\u001b[0mplot\u001b[0m\u001b[1;33m(\u001b[0m\u001b[0mp_values\u001b[0m\u001b[1;33m[\u001b[0m\u001b[1;33m:\u001b[0m\u001b[1;33m-\u001b[0m\u001b[1;36m1\u001b[0m\u001b[1;33m]\u001b[0m\u001b[1;33m,\u001b[0m \u001b[0mavg_bumps\u001b[0m\u001b[1;33m,\u001b[0m\u001b[0mcolor\u001b[0m \u001b[1;33m=\u001b[0m \u001b[1;34m\"green\"\u001b[0m\u001b[1;33m,\u001b[0m \u001b[0mlabel\u001b[0m\u001b[1;33m=\u001b[0m\u001b[1;34m\"Agent-3\"\u001b[0m\u001b[1;33m)\u001b[0m\u001b[1;33m\u001b[0m\u001b[1;33m\u001b[0m\u001b[0m\n\u001b[0;32m      5\u001b[0m \u001b[0mplt\u001b[0m\u001b[1;33m.\u001b[0m\u001b[0mlegend\u001b[0m\u001b[1;33m(\u001b[0m\u001b[1;33m)\u001b[0m\u001b[1;33m\u001b[0m\u001b[1;33m\u001b[0m\u001b[0m\n",
      "\u001b[1;31mNameError\u001b[0m: name 'agent_1_avg_bumps' is not defined"
     ]
    }
   ],
   "source": [
    "import matplotlib.pyplot as plt\n",
    "plt.plot(p_values[:-1], agent_1_avg_bumps,color = \"red\", label=\"Agent-1\")\n",
    "plt.plot(p_values[:-1], agent_2_avg_bumps,color = \"blue\", label=\"Agent-2\")\n",
    "plt.plot(p_values[:-1], avg_bumps,color = \"green\", label=\"Agent-3\")\n",
    "plt.legend()"
   ]
  },
  {
   "cell_type": "code",
   "execution_count": 144,
   "id": "eaacb913",
   "metadata": {},
   "outputs": [
    {
     "data": {
      "text/plain": [
       "[<matplotlib.lines.Line2D at 0x27fa072cca0>]"
      ]
     },
     "execution_count": 144,
     "metadata": {},
     "output_type": "execute_result"
    },
    {
     "data": {
      "image/png": "[encoded data removed]",
      "text/plain": [
       "<Figure size 432x288 with 1 Axes>"
      ]
     },
     "metadata": {
      "needs_background": "light"
     },
     "output_type": "display_data"
    }
   ],
   "source": [
    "import matplotlib.pyplot as plt\n",
    "plt.plot(result_x[:],avg_bumps)"
   ]
  },
  {
   "cell_type": "code",
   "execution_count": 177,
   "id": "49ce6c8b",
   "metadata": {},
   "outputs": [
    {
     "data": {
      "text/plain": [
       "[1.932,\n",
       " 4.068,\n",
       " 5.804,\n",
       " 7.864,\n",
       " 9.964,\n",
       " 12.02,\n",
       " 14.044,\n",
       " 15.82,\n",
       " 18.048,\n",
       " 20.048,\n",
       " 22.584,\n",
       " 25.224,\n",
       " 27.432,\n",
       " 29.924,\n",
       " 32.536,\n",
       " 35.748,\n",
       " 37.196,\n",
       " 41.148,\n",
       " 42.6,\n",
       " 47.216,\n",
       " 50.98,\n",
       " 52.064,\n",
       " 57.564,\n",
       " 62.84,\n",
       " 65.544,\n",
       " 70.236,\n",
       " 74.192,\n",
       " 81.492,\n",
       " 86.1,\n",
       " 95.112]"
      ]
     },
     "execution_count": 177,
     "metadata": {},
     "output_type": "execute_result"
    }
   ],
   "source": [
    "avg_bumps"
   ]
  },
  {
   "cell_type": "markdown",
   "id": "9b749572",
   "metadata": {},
   "source": []
  },
  {
   "cell_type": "code",
   "execution_count": 285,
   "id": "79108227",
   "metadata": {},
   "outputs": [],
   "source": [
    "# import pickle\n",
    "# with open('agent_3_avg_bumps.pkl', 'wb') as f:\n",
    "#     pickle.dump(avg_bumps, f)"
   ]
  },
  {
   "cell_type": "code",
   "execution_count": null,
   "id": "61328ab2",
   "metadata": {},
   "outputs": [],
   "source": []
  },
  {
   "cell_type": "code",
   "execution_count": null,
   "id": "e61f0cc6",
   "metadata": {},
   "outputs": [],
   "source": [
    "p_values[:-1]"
   ]
  },
  {
   "cell_type": "code",
   "execution_count": 148,
   "id": "a06d39ed",
   "metadata": {},
   "outputs": [],
   "source": [
    "import pickle\n",
    "with open('agent_2_avg_bumps.pkl', 'rb') as f:\n",
    "    agent_2_avg_bumps = pickle.load(f)\n",
    "with open('agent_1_avg_bumps.pkl', 'rb') as f:\n",
    "    agent_1_avg_bumps = pickle.load(f)\n",
    "with open('agent_3_avg_bumps.pkl', 'rb') as f:\n",
    "    agent_3_avg_bumps = pickle.load(f)"
   ]
  },
  {
   "cell_type": "code",
   "execution_count": 179,
   "id": "68dd90e6",
   "metadata": {},
   "outputs": [
    {
     "data": {
      "text/plain": [
       "<matplotlib.legend.Legend at 0x27f9e379a90>"
      ]
     },
     "execution_count": 179,
     "metadata": {},
     "output_type": "execute_result"
    },
    {
     "data": {
      "image/png": "[encoded data removed]",
      "text/plain": [
       "<Figure size 432x288 with 1 Axes>"
      ]
     },
     "metadata": {
      "needs_background": "light"
     },
     "output_type": "display_data"
    }
   ],
   "source": [
    "plt.plot(p_values[:-1], agent_1_avg_bumps,color = \"red\", label=\"Agent-1\")\n",
    "plt.plot(p_values[:-1], agent_2_avg_bumps,color = \"blue\", label=\"Agent-2\")\n",
    "plt.plot(p_values[:-1], np.array(avg_bumps),color = \"green\", label=\"Agent-3\")\n",
    "plt.legend()"
   ]
  },
  {
   "cell_type": "code",
   "execution_count": 48,
   "id": "8ae649d9",
   "metadata": {},
   "outputs": [
    {
     "ename": "NameError",
     "evalue": "name 'agent_1_avg_bumps' is not defined",
     "output_type": "error",
     "traceback": [
      "\u001b[1;31m---------------------------------------------------------------------------\u001b[0m",
      "\u001b[1;31mNameError\u001b[0m                                 Traceback (most recent call last)",
      "\u001b[1;32m<ipython-input-48-6f8064149ca3>\u001b[0m in \u001b[0;36m<module>\u001b[1;34m\u001b[0m\n\u001b[1;32m----> 1\u001b[1;33m \u001b[1;32mfor\u001b[0m \u001b[0mi\u001b[0m \u001b[1;32min\u001b[0m \u001b[0mrange\u001b[0m\u001b[1;33m(\u001b[0m\u001b[0mlen\u001b[0m\u001b[1;33m(\u001b[0m\u001b[0magent_1_avg_bumps\u001b[0m\u001b[1;33m)\u001b[0m\u001b[1;33m)\u001b[0m\u001b[1;33m:\u001b[0m\u001b[1;33m\u001b[0m\u001b[1;33m\u001b[0m\u001b[0m\n\u001b[0m\u001b[0;32m      2\u001b[0m     \u001b[0mprint\u001b[0m\u001b[1;33m(\u001b[0m\u001b[0magent_1_avg_bumps\u001b[0m\u001b[1;33m[\u001b[0m\u001b[0mi\u001b[0m\u001b[1;33m]\u001b[0m\u001b[1;33m)\u001b[0m\u001b[1;33m\u001b[0m\u001b[1;33m\u001b[0m\u001b[0m\n",
      "\u001b[1;31mNameError\u001b[0m: name 'agent_1_avg_bumps' is not defined"
     ]
    }
   ],
   "source": [
    "for i in range(len(agent_1_avg_bumps)):\n",
    "    print(agent_1_avg_bumps[i])"
   ]
  },
  {
   "cell_type": "code",
   "execution_count": 178,
   "id": "74a2ffa9",
   "metadata": {},
   "outputs": [],
   "source": [
    "# import pickle\n",
    "# with open('agent-3-better.pkl', 'wb') as f:\n",
    "#     pickle.dump(avg_bumps, f)"
   ]
  },
  {
   "cell_type": "code",
   "execution_count": null,
   "id": "d8442aed",
   "metadata": {},
   "outputs": [],
   "source": [
    "### Plots --> avg len of trajectory, avg number of cells processed, avg num of bumps\n",
    "def calculate_path_length(ans_compute_path):\n",
    "    ans = 0\n",
    "    for x in ans_compute_path:\n",
    "        ans = ans + len(x)-1\n",
    "    return ans + 1\n",
    "from tqdm import tqdm\n",
    "cnt = 0\n",
    "result_y = []\n",
    "# p_values = np.round(p_values,2)\n",
    "# result_x = p_values[1:50]\n",
    "avg_num_cells_processed = []\n",
    "avg_bumps = []\n",
    "avg_astar = []\n",
    "m = 101\n",
    "n = 101\n",
    "start = (0,0)\n",
    "target = (m-1,n-1)\n",
    "for p in tqdm(p_values):\n",
    "    if p == 0 or  p== 1:\n",
    "        continue\n",
    "    print(\"Started for p: \",p)\n",
    "    sum_num_cells_processed = 0\n",
    "    sum_bumps = 0\n",
    "    sum_astar = 0\n",
    "    cnt = 0\n",
    "    with open('C:/Users/karan/Desktop/Rutgers Courses/CS520/Project2/Grid_data/'+'p'+str(p)+'.txt') as f:\n",
    "        grid_data = f.readlines()\n",
    "        freq = 0\n",
    "        for s in grid_data:\n",
    "            new_s = ''\n",
    "            for c in s:\n",
    "                if(c == '.'):\n",
    "                    new_s +='0'\n",
    "                else:\n",
    "                    new_s += '1'\n",
    "            i = 0\n",
    "            grid = [] ## matrix that contains full knowledge of gridworld\n",
    "            m = 101\n",
    "            n = 101\n",
    "            start = (0,0)\n",
    "            target = (m-1,n-1)\n",
    "            while(i<m*n):\n",
    "                grid.append(list(new_s[i:i+n]))\n",
    "                i = i + n\n",
    "            grid = np.array(grid)\n",
    "            gridObject = GridWorld(grid, start, target, n, m) ### Original grid knowledge object\n",
    "            agentGridObject = GridWorld(np.full((m,n),'0'), start, target, n, m) ### Agent Grid Object\n",
    "            inference_agent = InferenceAgent3(agentGridObject) ### Inference Agent Grid\n",
    "            grid_agent = Agent3(n,m,start,target,inference_agent,gridObject, agentGridObject)\n",
    "            ans = grid_agent.compute_path()\n",
    "            sum_num_cells_processed += grid_agent.sum_num_cells_processed\n",
    "            sum_bumps += grid_agent.num_bumps\n",
    "            sum_astar += grid_agent.sum_a_star\n",
    "            cnt+=1\n",
    "            if(cnt == 250):\n",
    "                break\n",
    "        avg_num_cells_processed.append(sum_num_cells_processed/250)\n",
    "        avg_bumps.append(sum_bumps/250)\n",
    "        avg_astar.append(sum_astar/250)\n",
    "        "
   ]
  }
 ],
 "metadata": {
  "kernelspec": {
   "display_name": "Python 3",
   "language": "python",
   "name": "python3"
  },
  "language_info": {
   "codemirror_mode": {
    "name": "ipython",
    "version": 3
   },
   "file_extension": ".py",
   "mimetype": "text/x-python",
   "name": "python",
   "nbconvert_exporter": "python",
   "pygments_lexer": "ipython3",
   "version": "3.8.8"
  }
 },
 "nbformat": 4,
 "nbformat_minor": 5
}
